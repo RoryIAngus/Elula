{
 "cells": [
  {
   "cell_type": "code",
   "execution_count": 4,
   "metadata": {},
   "outputs": [
    {
     "data": {
      "text/plain": [
       "<matplotlib.axes._subplots.AxesSubplot at 0x7f591ff875c0>"
      ]
     },
     "execution_count": 4,
     "metadata": {},
     "output_type": "execute_result"
    },
    {
     "data": {
      "image/png": "[encoded data removed]",
      "text/plain": [
       "<Figure size 432x288 with 1 Axes>"
      ]
     },
     "metadata": {
      "needs_background": "light"
     },
     "output_type": "display_data"
    }
   ],
   "source": [
    "import pandas as pd\n",
    "# Create dataframe \n",
    "df=pd.DataFrame({\n",
    "    'group':['a','a','a','a','a','a','a','b','b','b','b','b','b','b'],\n",
    "    'day':['Mon','Tues','Fri','Thurs','Sat','Sun','Weds','Fri','Sun','Thurs','Sat','Weds','Mon','Tues'],\n",
    "    'amount':[1,2,4,2,1,1,2,4,5,3,4,2,1,3]\n",
    "})\n",
    "\n",
    "\n",
    "# Calculate the total amount for each day\n",
    "df_grouped = df.groupby(['day']).sum().amount.reset_index()\n",
    "\n",
    "# Use Dan's trick to order days names in the table created by groupby\n",
    "weekdays = ['Mon', 'Tues', 'Weds', 'Thurs', 'Fri', 'Sat', 'Sun']\n",
    "mapping = {day: i for i, day in enumerate(weekdays)}\n",
    "key = df_grouped['day'].map(mapping)    \n",
    "df_grouped = df_grouped.iloc[key.argsort()]\n",
    "\n",
    "# Draw the bar chart\n",
    "df_grouped.plot(kind='bar', x='day')\n",
    "\n"
   ]
  },
  {
   "cell_type": "code",
   "execution_count": 5,
   "metadata": {},
   "outputs": [
    {
     "data": {
      "text/plain": [
       "0    4\n",
       "1    0\n",
       "2    5\n",
       "3    6\n",
       "4    3\n",
       "5    1\n",
       "6    2\n",
       "Name: day, dtype: int64"
      ]
     },
     "execution_count": 5,
     "metadata": {},
     "output_type": "execute_result"
    }
   ],
   "source": [
    "key"
   ]
  }
 ],
 "metadata": {
  "kernelspec": {
   "display_name": "Python 3",
   "language": "python",
   "name": "python3"
  },
  "language_info": {
   "codemirror_mode": {
    "name": "ipython",
    "version": 3
   },
   "file_extension": ".py",
   "mimetype": "text/x-python",
   "name": "python",
   "nbconvert_exporter": "python",
   "pygments_lexer": "ipython3",
   "version": "3.7.3"
  }
 },
 "nbformat": 4,
 "nbformat_minor": 2
}
