{
 "cells": [
  {
   "cell_type": "code",
   "execution_count": 6,
   "metadata": {},
   "outputs": [],
   "source": [
    "import os\n",
    "import pymysql\n",
    "import pandas as pd\n",
    "import sys"
   ]
  },
  {
   "cell_type": "code",
   "execution_count": null,
   "metadata": {},
   "outputs": [],
   "source": [
    "# define database connnection string\n",
    "host = \"nyctaxi.cq3rwooo9ghy.ap-southeast-2.rds.amazonaws.com\"\n",
    "port=3306\n",
    "dbname=\"NYCTaxiDB\"\n",
    "user=\"Administrator\"\n",
    "password=\"X5LdUuzaZoY7CvUO7Gmpaw4Hed\""
   ]
  },
  {
   "cell_type": "code",
   "execution_count": null,
   "metadata": {},
   "outputs": [],
   "source": [
    "def csv_to_mysql(load_sql, host, port, user, password):\n",
    "    '''\n",
    "    This function load a csv file to MySQL table according to\n",
    "    the load_sql statement.\n",
    "    '''\n",
    "    try:\n",
    "        con = pymysql.connect(host=host,\n",
    "                              port=port,\n",
    "                                user=user,\n",
    "                                password=password,\n",
    "                                autocommit=True,\n",
    "                                local_infile=1)\n",
    "        print('Connected to DB: {}'.format(host))\n",
    "        # Create cursor and execute Load SQL\n",
    "        cursor = con.cursor()\n",
    "        cursor.execute(load_sql)\n",
    "        print('Succuessfully loaded the table from csv.')\n",
    "        con.close()\n",
    "        \n",
    "    except Exception as e:\n",
    "        print('Error: {}'.format(str(e)))\n",
    "        sys.exit(1)"
   ]
  },
  {
   "cell_type": "markdown",
   "metadata": {},
   "source": [
    "# Get the file names from the directory"
   ]
  },
  {
   "cell_type": "code",
   "execution_count": 29,
   "metadata": {},
   "outputs": [],
   "source": [
    "entriesFare = os.scandir('/dltraining/datasets/Trip Fare/')"
   ]
  },
  {
   "cell_type": "code",
   "execution_count": 30,
   "metadata": {},
   "outputs": [
    {
     "name": "stdout",
     "output_type": "stream",
     "text": [
      ".csv\n",
      "LOAD DATA LOCAL INFILE '/dltraining/datasets/Trip Fare/trip_fare_11.csv' INTO TABLE NYCTaxiDB.fareData  FIELDS TERMINATED BY ',' IGNORE 1 LINES;\n",
      "file\n",
      ".csv\n",
      "LOAD DATA LOCAL INFILE '/dltraining/datasets/Trip Fare/trip_fare_9.csv' INTO TABLE NYCTaxiDB.fareData  FIELDS TERMINATED BY ',' IGNORE 1 LINES;\n",
      ".csv\n",
      "LOAD DATA LOCAL INFILE '/dltraining/datasets/Trip Fare/trip_fare_10.csv' INTO TABLE NYCTaxiDB.fareData  FIELDS TERMINATED BY ',' IGNORE 1 LINES;\n",
      ".csv\n",
      "LOAD DATA LOCAL INFILE '/dltraining/datasets/Trip Fare/trip_fare_8.csv' INTO TABLE NYCTaxiDB.fareData  FIELDS TERMINATED BY ',' IGNORE 1 LINES;\n",
      "ints\n",
      ".csv\n",
      "LOAD DATA LOCAL INFILE '/dltraining/datasets/Trip Fare/trip_fare_4.csv' INTO TABLE NYCTaxiDB.fareData  FIELDS TERMINATED BY ',' IGNORE 1 LINES;\n",
      ".csv\n",
      "LOAD DATA LOCAL INFILE '/dltraining/datasets/Trip Fare/trip_fare_6.csv' INTO TABLE NYCTaxiDB.fareData  FIELDS TERMINATED BY ',' IGNORE 1 LINES;\n",
      ".csv\n",
      "LOAD DATA LOCAL INFILE '/dltraining/datasets/Trip Fare/trip_fare_2.csv' INTO TABLE NYCTaxiDB.fareData  FIELDS TERMINATED BY ',' IGNORE 1 LINES;\n",
      ".csv\n",
      "LOAD DATA LOCAL INFILE '/dltraining/datasets/Trip Fare/trip_fare_5.csv' INTO TABLE NYCTaxiDB.fareData  FIELDS TERMINATED BY ',' IGNORE 1 LINES;\n",
      ".csv\n",
      "LOAD DATA LOCAL INFILE '/dltraining/datasets/Trip Fare/trip_fare_1.csv' INTO TABLE NYCTaxiDB.fareData  FIELDS TERMINATED BY ',' IGNORE 1 LINES;\n",
      ".csv\n",
      "LOAD DATA LOCAL INFILE '/dltraining/datasets/Trip Fare/trip_fare_3.csv' INTO TABLE NYCTaxiDB.fareData  FIELDS TERMINATED BY ',' IGNORE 1 LINES;\n",
      ".csv\n",
      "LOAD DATA LOCAL INFILE '/dltraining/datasets/Trip Fare/trip_fare_12.csv' INTO TABLE NYCTaxiDB.fareData  FIELDS TERMINATED BY ',' IGNORE 1 LINES;\n",
      ".csv\n",
      "LOAD DATA LOCAL INFILE '/dltraining/datasets/Trip Fare/trip_fare_7.csv' INTO TABLE NYCTaxiDB.fareData  FIELDS TERMINATED BY ',' IGNORE 1 LINES;\n"
     ]
    }
   ],
   "source": [
    "for entry in entriesFare:\n",
    "    print((entry.name[len(entry.name)-4:len(entry.name)]).lower())\n",
    "    if ((entry.name[len(entry.name)-4:len(entry.name)]).lower()) == \".csv\":\n",
    "        load_sql = \"LOAD DATA LOCAL INFILE '/dltraining/datasets/Trip Fare/\" + entry.name +\"' INTO TABLE NYCTaxiDB.fareData  FIELDS TERMINATED BY ',' IGNORE 1 LINES;\"\n",
    "        print(load_sql)\n",
    "    \n",
    "\n"
   ]
  },
  {
   "cell_type": "code",
   "execution_count": 4,
   "metadata": {},
   "outputs": [],
   "source": [
    "entriesTrip = os.scandir('/dltraining/datasets/Trip Data/')"
   ]
  },
  {
   "cell_type": "code",
   "execution_count": 5,
   "metadata": {},
   "outputs": [
    {
     "name": "stdout",
     "output_type": "stream",
     "text": [
      "zipfile\n",
      "trip_data_1.csv\n",
      "trip_data_12.csv\n",
      "trip_data_5.csv\n",
      "trip_data_7.csv\n",
      "trip_data_6.csv\n",
      "trip_data_9.csv\n",
      "trip_data_2.csv\n",
      ".ipynb_checkpoints\n",
      "trip_data_10.csv\n",
      "trip_data_11.csv\n",
      "trip_data_8.csv\n",
      "trip_data_3.csv\n",
      "trip_data_4.csv\n"
     ]
    }
   ],
   "source": [
    "for entry in entriesTrip:\n",
    "    print(entry.name)\n"
   ]
  },
  {
   "cell_type": "code",
   "execution_count": null,
   "metadata": {},
   "outputs": [],
   "source": []
  }
 ],
 "metadata": {
  "kernelspec": {
   "display_name": "Python 3",
   "language": "python",
   "name": "python3"
  },
  "language_info": {
   "codemirror_mode": {
    "name": "ipython",
    "version": 3
   },
   "file_extension": ".py",
   "mimetype": "text/x-python",
   "name": "python",
   "nbconvert_exporter": "python",
   "pygments_lexer": "ipython3",
   "version": "3.7.3"
  }
 },
 "nbformat": 4,
 "nbformat_minor": 2
}
