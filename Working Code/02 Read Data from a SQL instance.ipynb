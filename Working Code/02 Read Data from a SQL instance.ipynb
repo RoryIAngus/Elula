{
 "cells": [
  {
   "cell_type": "code",
   "execution_count": 1,
   "metadata": {
    "ExecuteTime": {
     "end_time": "2019-07-02T05:49:51.255314Z",
     "start_time": "2019-07-02T05:49:50.626969Z"
    }
   },
   "outputs": [],
   "source": [
    "import numpy as np\n",
    "import pandas as pd\n",
    "import pandas_profiling\n",
    "#import pymysql  need this if I actaully use the code to talk to a DB\n",
    "import configparser"
   ]
  },
  {
   "cell_type": "code",
   "execution_count": null,
   "metadata": {},
   "outputs": [],
   "source": [
    "tripData1 = pd.read_csv('/dltraining/datasets/Trip Data/trip_data_1.csv',\n",
    "                        nrows=10000)"
   ]
  },
  {
   "cell_type": "code",
   "execution_count": null,
   "metadata": {},
   "outputs": [],
   "source": [
    "tripData1.head()"
   ]
  },
  {
   "cell_type": "code",
   "execution_count": null,
   "metadata": {},
   "outputs": [],
   "source": [
    "tripFare1 = pd.read_csv('/dltraining/datasets/Trip Fare/trip_fare_1.csv',\n",
    "                        nrows=10000)\n",
    "\n",
    "#remove the leading spaces\n",
    "tripFare1.columns = [\n",
    "    'medallion', 'hack_license', 'vendor_id', 'pickup_datetime',\n",
    "    'payment_type', 'fare_amount', 'surcharge', 'mta_tax', 'tip_amount',\n",
    "    'tolls_amount', 'total_amount'\n",
    "]"
   ]
  },
  {
   "cell_type": "code",
   "execution_count": null,
   "metadata": {},
   "outputs": [],
   "source": [
    "tripFare1.head()"
   ]
  },
  {
   "cell_type": "markdown",
   "metadata": {},
   "source": [
    "# Database Connection "
   ]
  },
  {
   "cell_type": "code",
   "execution_count": 2,
   "metadata": {
    "ExecuteTime": {
     "end_time": "2019-07-02T05:49:53.413492Z",
     "start_time": "2019-07-02T05:49:53.402074Z"
    }
   },
   "outputs": [
    {
     "data": {
      "text/plain": [
       "<configparser.ConfigParser at 0x7f4db4d19518>"
      ]
     },
     "execution_count": 2,
     "metadata": {},
     "output_type": "execute_result"
    }
   ],
   "source": [
    "config = configparser.ConfigParser()\n",
    "config"
   ]
  },
  {
   "cell_type": "code",
   "execution_count": 3,
   "metadata": {
    "ExecuteTime": {
     "end_time": "2019-07-02T05:49:54.604358Z",
     "start_time": "2019-07-02T05:49:54.594983Z"
    }
   },
   "outputs": [
    {
     "data": {
      "text/plain": [
       "['/dltraining/New-York-Taxi-Analysis/Secrets/passwords.ini']"
      ]
     },
     "execution_count": 3,
     "metadata": {},
     "output_type": "execute_result"
    }
   ],
   "source": [
    "config.read(\"/dltraining/New-York-Taxi-Analysis/Secrets/passwords.ini\")"
   ]
  },
  {
   "cell_type": "code",
   "execution_count": 4,
   "metadata": {
    "ExecuteTime": {
     "end_time": "2019-07-02T05:49:55.293773Z",
     "start_time": "2019-07-02T05:49:55.284984Z"
    }
   },
   "outputs": [
    {
     "data": {
      "text/plain": [
       "['Database_NYTaxi']"
      ]
     },
     "execution_count": 4,
     "metadata": {},
     "output_type": "execute_result"
    }
   ],
   "source": [
    "config.sections()"
   ]
  },
  {
   "cell_type": "code",
   "execution_count": 5,
   "metadata": {
    "ExecuteTime": {
     "end_time": "2019-07-02T05:50:00.257952Z",
     "start_time": "2019-07-02T05:50:00.250057Z"
    }
   },
   "outputs": [
    {
     "data": {
      "text/plain": [
       "['user', 'securitytoken', 'host', 'port', 'dbname']"
      ]
     },
     "execution_count": 5,
     "metadata": {},
     "output_type": "execute_result"
    }
   ],
   "source": [
    "config.options('Database_NYTaxi')"
   ]
  },
  {
   "cell_type": "code",
   "execution_count": 9,
   "metadata": {
    "ExecuteTime": {
     "end_time": "2019-07-02T05:53:32.517635Z",
     "start_time": "2019-07-02T05:53:32.508035Z"
    }
   },
   "outputs": [
    {
     "name": "stdout",
     "output_type": "stream",
     "text": [
      "The Database NYCTaxiDB is found at nyctaxi.cq3rwooo9ghy.ap-southeast-2.rds.amazonaws.com on port 3306. It has a user of Administrator, with a password of X5LdUuzaZoY7CvUO7Gmpaw4Hed\n"
     ]
    }
   ],
   "source": [
    "# Assigning values to variable\n",
    "host = config.get('Database_NYTaxi', 'host')\n",
    "port = config.get('Database_NYTaxi', 'port')\n",
    "dbname = config.get('Database_NYTaxi', 'dbname')\n",
    "user = config.get('Database_NYTaxi', 'user')\n",
    "password = config.get('Database_NYTaxi', 'securitytoken')\n",
    "print(\n",
    "    \"The Database %s is found at %s on port %s. It has a user of %s, with a password of %s\"\n",
    "    % (dbname, host, port, user, password))"
   ]
  },
  {
   "cell_type": "code",
   "execution_count": 8,
   "metadata": {
    "ExecuteTime": {
     "end_time": "2019-07-02T05:50:35.884988Z",
     "start_time": "2019-07-02T05:50:35.880031Z"
    }
   },
   "outputs": [],
   "source": [
    "## Database no longer exists, this is a demo only\n",
    "host = config.get('Database_NYTaxi', 'host')\n",
    "port = config.get('Database_NYTaxi', 'port')\n",
    "dbname = config.get('Database_NYTaxi', 'dbname')\n",
    "user = config.get('Database_NYTaxi', 'user')\n",
    "password = config.get('Database_NYTaxi', 'securitytoken')"
   ]
  },
  {
   "cell_type": "code",
   "execution_count": null,
   "metadata": {},
   "outputs": [],
   "source": [
    "# create a connection to the database\n",
    "conn = pymysql.connect(host, user=user, port=port, passwd=password, db=dbname)"
   ]
  },
  {
   "cell_type": "code",
   "execution_count": null,
   "metadata": {},
   "outputs": [],
   "source": [
    "# create object to talk to the db\n",
    "cursorObject = conn.cursor()"
   ]
  },
  {
   "cell_type": "code",
   "execution_count": null,
   "metadata": {},
   "outputs": [],
   "source": [
    "# check to see if there are any tables\n",
    "sqlQuery = \"show tables\"\n",
    "cursorObject.execute(sqlQuery)\n",
    "for x in cursorObject:\n",
    "    print(x)"
   ]
  },
  {
   "cell_type": "code",
   "execution_count": null,
   "metadata": {},
   "outputs": [],
   "source": [
    "sqlQuery = \"CREATE TABLE tripData(id INT AUTO_INCREMENT PRIMARY KEY, medallion char(32), hack_license char(32), vendor_id varchar(32), rate_code int, store_and_fwd_flag char(5), pickup_datetime datetime, dropoff_datetime datetime , passenger_count int, trip_time_in_secs int, trip_distance float(10,5), pickup_longitude float(12, 7), pickup_latitude float(12, 7), dropoff_longitude float(12, 7), dropoff_latitude float(12, 7))\"\n",
    "cursorObject.execute(sqlQuery)"
   ]
  },
  {
   "cell_type": "code",
   "execution_count": null,
   "metadata": {},
   "outputs": [],
   "source": [
    "sqlQuery = \"CREATE TABLE fareData(id INT AUTO_INCREMENT PRIMARY KEY, medallion char(32), hack_license char(32), vendor_id varchar(32), pickup_datetime datetime, payment_type varchar(32), fare_amount float(10,3), surcharge float(10,3), mta_tax float(10,3), tip_amount float(10,3), tolls_amount float(10,3), total_amount float(10,3))\"\n",
    "cursorObject.execute(sqlQuery)"
   ]
  },
  {
   "cell_type": "code",
   "execution_count": null,
   "metadata": {},
   "outputs": [],
   "source": [
    "sqlQuery = \"show tables\"\n",
    "cursorObject.execute(sqlQuery)\n",
    "for x in cursorObject:\n",
    "    print(x)"
   ]
  },
  {
   "cell_type": "code",
   "execution_count": null,
   "metadata": {},
   "outputs": [],
   "source": [
    "tripFare1.to_sql(con=conn, name='fareData_1', if_exists='append', index=False)"
   ]
  },
  {
   "cell_type": "code",
   "execution_count": null,
   "metadata": {},
   "outputs": [],
   "source": [
    "sqlQuery = \"select count(*) from fareData\"\n",
    "cursorObject.execute(sqlQuery)\n",
    "for x in cursorObject:\n",
    "    print(x)"
   ]
  },
  {
   "cell_type": "code",
   "execution_count": null,
   "metadata": {},
   "outputs": [],
   "source": [
    "sqlQuery = \"ALTER TABLE NYCTaxiDB.fareData AUTO_INCREMENT =1\"\n",
    "cursorObject.execute(sqlQuery)\n",
    "for x in cursorObject:\n",
    "    print(x)"
   ]
  },
  {
   "cell_type": "code",
   "execution_count": null,
   "metadata": {},
   "outputs": [],
   "source": [
    "sqlQuery = \"SELECT name FROM sqlite_master WHERE type='table' AND name='fareData_1'\"\n",
    "cursorObject.execute(sqlQuery)\n",
    "for x in cursorObject:\n",
    "    print(x)"
   ]
  },
  {
   "cell_type": "code",
   "execution_count": null,
   "metadata": {},
   "outputs": [],
   "source": [
    "# close the connection\n",
    "conn.close()"
   ]
  }
 ],
 "metadata": {
  "kernelspec": {
   "display_name": "Python [conda env:working]",
   "language": "python",
   "name": "conda-env-working-py"
  },
  "language_info": {
   "codemirror_mode": {
    "name": "ipython",
    "version": 3
   },
   "file_extension": ".py",
   "mimetype": "text/x-python",
   "name": "python",
   "nbconvert_exporter": "python",
   "pygments_lexer": "ipython3",
   "version": "3.7.3"
  }
 },
 "nbformat": 4,
 "nbformat_minor": 2
}
