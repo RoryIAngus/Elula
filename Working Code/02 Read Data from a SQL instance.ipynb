{
 "cells": [
  {
   "cell_type": "code",
   "execution_count": 1,
   "metadata": {
    "ExecuteTime": {
     "end_time": "2019-07-02T06:19:00.420220Z",
     "start_time": "2019-07-02T06:18:59.784527Z"
    }
   },
   "outputs": [],
   "source": [
    "import numpy as np\n",
    "import pandas as pd\n",
    "import pandas_profiling\n",
    "#import pymysql  need this if I actaully use the code to talk to a DB\n",
    "import configparser"
   ]
  },
  {
   "cell_type": "code",
   "execution_count": 2,
   "metadata": {
    "ExecuteTime": {
     "end_time": "2019-07-02T06:19:00.445951Z",
     "start_time": "2019-07-02T06:19:00.423413Z"
    }
   },
   "outputs": [],
   "source": [
    "tripData1 = pd.read_csv('/dltraining/datasets/Trip Data/trip_data_1.csv',\n",
    "                        nrows=1000)"
   ]
  },
  {
   "cell_type": "code",
   "execution_count": 3,
   "metadata": {
    "ExecuteTime": {
     "end_time": "2019-07-02T06:19:00.483797Z",
     "start_time": "2019-07-02T06:19:00.449700Z"
    }
   },
   "outputs": [
    {
     "data": {
      "text/html": [
       "<div>\n",
       "<style scoped>\n",
       "    .dataframe tbody tr th:only-of-type {\n",
       "        vertical-align: middle;\n",
       "    }\n",
       "\n",
       "    .dataframe tbody tr th {\n",
       "        vertical-align: top;\n",
       "    }\n",
       "\n",
       "    .dataframe thead th {\n",
       "        text-align: right;\n",
       "    }\n",
       "</style>\n",
       "<table border=\"1\" class=\"dataframe\">\n",
       "  <thead>\n",
       "    <tr style=\"text-align: right;\">\n",
       "      <th></th>\n",
       "      <th>medallion</th>\n",
       "      <th>hack_license</th>\n",
       "      <th>vendor_id</th>\n",
       "      <th>rate_code</th>\n",
       "      <th>store_and_fwd_flag</th>\n",
       "      <th>pickup_datetime</th>\n",
       "      <th>dropoff_datetime</th>\n",
       "      <th>passenger_count</th>\n",
       "      <th>trip_time_in_secs</th>\n",
       "      <th>trip_distance</th>\n",
       "      <th>pickup_longitude</th>\n",
       "      <th>pickup_latitude</th>\n",
       "      <th>dropoff_longitude</th>\n",
       "      <th>dropoff_latitude</th>\n",
       "    </tr>\n",
       "  </thead>\n",
       "  <tbody>\n",
       "    <tr>\n",
       "      <th>0</th>\n",
       "      <td>89D227B655E5C82AECF13C3F540D4CF4</td>\n",
       "      <td>BA96DE419E711691B9445D6A6307C170</td>\n",
       "      <td>CMT</td>\n",
       "      <td>1</td>\n",
       "      <td>N</td>\n",
       "      <td>2013-01-01 15:11:48</td>\n",
       "      <td>2013-01-01 15:18:10</td>\n",
       "      <td>4</td>\n",
       "      <td>382</td>\n",
       "      <td>1.0</td>\n",
       "      <td>-73.978165</td>\n",
       "      <td>40.757977</td>\n",
       "      <td>-73.989838</td>\n",
       "      <td>40.751171</td>\n",
       "    </tr>\n",
       "    <tr>\n",
       "      <th>1</th>\n",
       "      <td>0BD7C8F5BA12B88E0B67BED28BEA73D8</td>\n",
       "      <td>9FD8F69F0804BDB5549F40E9DA1BE472</td>\n",
       "      <td>CMT</td>\n",
       "      <td>1</td>\n",
       "      <td>N</td>\n",
       "      <td>2013-01-06 00:18:35</td>\n",
       "      <td>2013-01-06 00:22:54</td>\n",
       "      <td>1</td>\n",
       "      <td>259</td>\n",
       "      <td>1.5</td>\n",
       "      <td>-74.006683</td>\n",
       "      <td>40.731781</td>\n",
       "      <td>-73.994499</td>\n",
       "      <td>40.750660</td>\n",
       "    </tr>\n",
       "    <tr>\n",
       "      <th>2</th>\n",
       "      <td>0BD7C8F5BA12B88E0B67BED28BEA73D8</td>\n",
       "      <td>9FD8F69F0804BDB5549F40E9DA1BE472</td>\n",
       "      <td>CMT</td>\n",
       "      <td>1</td>\n",
       "      <td>N</td>\n",
       "      <td>2013-01-05 18:49:41</td>\n",
       "      <td>2013-01-05 18:54:23</td>\n",
       "      <td>1</td>\n",
       "      <td>282</td>\n",
       "      <td>1.1</td>\n",
       "      <td>-74.004707</td>\n",
       "      <td>40.737770</td>\n",
       "      <td>-74.009834</td>\n",
       "      <td>40.726002</td>\n",
       "    </tr>\n",
       "    <tr>\n",
       "      <th>3</th>\n",
       "      <td>DFD2202EE08F7A8DC9A57B02ACB81FE2</td>\n",
       "      <td>51EE87E3205C985EF8431D850C786310</td>\n",
       "      <td>CMT</td>\n",
       "      <td>1</td>\n",
       "      <td>N</td>\n",
       "      <td>2013-01-07 23:54:15</td>\n",
       "      <td>2013-01-07 23:58:20</td>\n",
       "      <td>2</td>\n",
       "      <td>244</td>\n",
       "      <td>0.7</td>\n",
       "      <td>-73.974602</td>\n",
       "      <td>40.759945</td>\n",
       "      <td>-73.984734</td>\n",
       "      <td>40.759388</td>\n",
       "    </tr>\n",
       "    <tr>\n",
       "      <th>4</th>\n",
       "      <td>DFD2202EE08F7A8DC9A57B02ACB81FE2</td>\n",
       "      <td>51EE87E3205C985EF8431D850C786310</td>\n",
       "      <td>CMT</td>\n",
       "      <td>1</td>\n",
       "      <td>N</td>\n",
       "      <td>2013-01-07 23:25:03</td>\n",
       "      <td>2013-01-07 23:34:24</td>\n",
       "      <td>1</td>\n",
       "      <td>560</td>\n",
       "      <td>2.1</td>\n",
       "      <td>-73.976250</td>\n",
       "      <td>40.748528</td>\n",
       "      <td>-74.002586</td>\n",
       "      <td>40.747868</td>\n",
       "    </tr>\n",
       "  </tbody>\n",
       "</table>\n",
       "</div>"
      ],
      "text/plain": [
       "                          medallion                      hack_license  \\\n",
       "0  89D227B655E5C82AECF13C3F540D4CF4  BA96DE419E711691B9445D6A6307C170   \n",
       "1  0BD7C8F5BA12B88E0B67BED28BEA73D8  9FD8F69F0804BDB5549F40E9DA1BE472   \n",
       "2  0BD7C8F5BA12B88E0B67BED28BEA73D8  9FD8F69F0804BDB5549F40E9DA1BE472   \n",
       "3  DFD2202EE08F7A8DC9A57B02ACB81FE2  51EE87E3205C985EF8431D850C786310   \n",
       "4  DFD2202EE08F7A8DC9A57B02ACB81FE2  51EE87E3205C985EF8431D850C786310   \n",
       "\n",
       "  vendor_id  rate_code store_and_fwd_flag      pickup_datetime  \\\n",
       "0       CMT          1                  N  2013-01-01 15:11:48   \n",
       "1       CMT          1                  N  2013-01-06 00:18:35   \n",
       "2       CMT          1                  N  2013-01-05 18:49:41   \n",
       "3       CMT          1                  N  2013-01-07 23:54:15   \n",
       "4       CMT          1                  N  2013-01-07 23:25:03   \n",
       "\n",
       "      dropoff_datetime  passenger_count  trip_time_in_secs  trip_distance  \\\n",
       "0  2013-01-01 15:18:10                4                382            1.0   \n",
       "1  2013-01-06 00:22:54                1                259            1.5   \n",
       "2  2013-01-05 18:54:23                1                282            1.1   \n",
       "3  2013-01-07 23:58:20                2                244            0.7   \n",
       "4  2013-01-07 23:34:24                1                560            2.1   \n",
       "\n",
       "   pickup_longitude  pickup_latitude  dropoff_longitude  dropoff_latitude  \n",
       "0        -73.978165        40.757977         -73.989838         40.751171  \n",
       "1        -74.006683        40.731781         -73.994499         40.750660  \n",
       "2        -74.004707        40.737770         -74.009834         40.726002  \n",
       "3        -73.974602        40.759945         -73.984734         40.759388  \n",
       "4        -73.976250        40.748528         -74.002586         40.747868  "
      ]
     },
     "execution_count": 3,
     "metadata": {},
     "output_type": "execute_result"
    }
   ],
   "source": [
    "tripData1.head()"
   ]
  },
  {
   "cell_type": "code",
   "execution_count": 4,
   "metadata": {
    "ExecuteTime": {
     "end_time": "2019-07-02T06:19:00.505129Z",
     "start_time": "2019-07-02T06:19:00.488364Z"
    }
   },
   "outputs": [],
   "source": [
    "tripFare1 = pd.read_csv('/dltraining/datasets/Trip Fare/trip_fare_1.csv',\n",
    "                        nrows=1000)\n",
    "\n",
    "#remove the leading spaces\n",
    "tripFare1.columns = [\n",
    "    'medallion', 'hack_license', 'vendor_id', 'pickup_datetime',\n",
    "    'payment_type', 'fare_amount', 'surcharge', 'mta_tax', 'tip_amount',\n",
    "    'tolls_amount', 'total_amount'\n",
    "]"
   ]
  },
  {
   "cell_type": "code",
   "execution_count": 5,
   "metadata": {
    "ExecuteTime": {
     "end_time": "2019-07-02T06:19:00.526963Z",
     "start_time": "2019-07-02T06:19:00.507657Z"
    }
   },
   "outputs": [
    {
     "data": {
      "text/html": [
       "<div>\n",
       "<style scoped>\n",
       "    .dataframe tbody tr th:only-of-type {\n",
       "        vertical-align: middle;\n",
       "    }\n",
       "\n",
       "    .dataframe tbody tr th {\n",
       "        vertical-align: top;\n",
       "    }\n",
       "\n",
       "    .dataframe thead th {\n",
       "        text-align: right;\n",
       "    }\n",
       "</style>\n",
       "<table border=\"1\" class=\"dataframe\">\n",
       "  <thead>\n",
       "    <tr style=\"text-align: right;\">\n",
       "      <th></th>\n",
       "      <th>medallion</th>\n",
       "      <th>hack_license</th>\n",
       "      <th>vendor_id</th>\n",
       "      <th>pickup_datetime</th>\n",
       "      <th>payment_type</th>\n",
       "      <th>fare_amount</th>\n",
       "      <th>surcharge</th>\n",
       "      <th>mta_tax</th>\n",
       "      <th>tip_amount</th>\n",
       "      <th>tolls_amount</th>\n",
       "      <th>total_amount</th>\n",
       "    </tr>\n",
       "  </thead>\n",
       "  <tbody>\n",
       "    <tr>\n",
       "      <th>0</th>\n",
       "      <td>89D227B655E5C82AECF13C3F540D4CF4</td>\n",
       "      <td>BA96DE419E711691B9445D6A6307C170</td>\n",
       "      <td>CMT</td>\n",
       "      <td>2013-01-01 15:11:48</td>\n",
       "      <td>CSH</td>\n",
       "      <td>6.5</td>\n",
       "      <td>0.0</td>\n",
       "      <td>0.5</td>\n",
       "      <td>0.0</td>\n",
       "      <td>0.0</td>\n",
       "      <td>7.0</td>\n",
       "    </tr>\n",
       "    <tr>\n",
       "      <th>1</th>\n",
       "      <td>0BD7C8F5BA12B88E0B67BED28BEA73D8</td>\n",
       "      <td>9FD8F69F0804BDB5549F40E9DA1BE472</td>\n",
       "      <td>CMT</td>\n",
       "      <td>2013-01-06 00:18:35</td>\n",
       "      <td>CSH</td>\n",
       "      <td>6.0</td>\n",
       "      <td>0.5</td>\n",
       "      <td>0.5</td>\n",
       "      <td>0.0</td>\n",
       "      <td>0.0</td>\n",
       "      <td>7.0</td>\n",
       "    </tr>\n",
       "    <tr>\n",
       "      <th>2</th>\n",
       "      <td>0BD7C8F5BA12B88E0B67BED28BEA73D8</td>\n",
       "      <td>9FD8F69F0804BDB5549F40E9DA1BE472</td>\n",
       "      <td>CMT</td>\n",
       "      <td>2013-01-05 18:49:41</td>\n",
       "      <td>CSH</td>\n",
       "      <td>5.5</td>\n",
       "      <td>1.0</td>\n",
       "      <td>0.5</td>\n",
       "      <td>0.0</td>\n",
       "      <td>0.0</td>\n",
       "      <td>7.0</td>\n",
       "    </tr>\n",
       "    <tr>\n",
       "      <th>3</th>\n",
       "      <td>DFD2202EE08F7A8DC9A57B02ACB81FE2</td>\n",
       "      <td>51EE87E3205C985EF8431D850C786310</td>\n",
       "      <td>CMT</td>\n",
       "      <td>2013-01-07 23:54:15</td>\n",
       "      <td>CSH</td>\n",
       "      <td>5.0</td>\n",
       "      <td>0.5</td>\n",
       "      <td>0.5</td>\n",
       "      <td>0.0</td>\n",
       "      <td>0.0</td>\n",
       "      <td>6.0</td>\n",
       "    </tr>\n",
       "    <tr>\n",
       "      <th>4</th>\n",
       "      <td>DFD2202EE08F7A8DC9A57B02ACB81FE2</td>\n",
       "      <td>51EE87E3205C985EF8431D850C786310</td>\n",
       "      <td>CMT</td>\n",
       "      <td>2013-01-07 23:25:03</td>\n",
       "      <td>CSH</td>\n",
       "      <td>9.5</td>\n",
       "      <td>0.5</td>\n",
       "      <td>0.5</td>\n",
       "      <td>0.0</td>\n",
       "      <td>0.0</td>\n",
       "      <td>10.5</td>\n",
       "    </tr>\n",
       "  </tbody>\n",
       "</table>\n",
       "</div>"
      ],
      "text/plain": [
       "                          medallion                      hack_license  \\\n",
       "0  89D227B655E5C82AECF13C3F540D4CF4  BA96DE419E711691B9445D6A6307C170   \n",
       "1  0BD7C8F5BA12B88E0B67BED28BEA73D8  9FD8F69F0804BDB5549F40E9DA1BE472   \n",
       "2  0BD7C8F5BA12B88E0B67BED28BEA73D8  9FD8F69F0804BDB5549F40E9DA1BE472   \n",
       "3  DFD2202EE08F7A8DC9A57B02ACB81FE2  51EE87E3205C985EF8431D850C786310   \n",
       "4  DFD2202EE08F7A8DC9A57B02ACB81FE2  51EE87E3205C985EF8431D850C786310   \n",
       "\n",
       "  vendor_id      pickup_datetime payment_type  fare_amount  surcharge  \\\n",
       "0       CMT  2013-01-01 15:11:48          CSH          6.5        0.0   \n",
       "1       CMT  2013-01-06 00:18:35          CSH          6.0        0.5   \n",
       "2       CMT  2013-01-05 18:49:41          CSH          5.5        1.0   \n",
       "3       CMT  2013-01-07 23:54:15          CSH          5.0        0.5   \n",
       "4       CMT  2013-01-07 23:25:03          CSH          9.5        0.5   \n",
       "\n",
       "   mta_tax  tip_amount  tolls_amount  total_amount  \n",
       "0      0.5         0.0           0.0           7.0  \n",
       "1      0.5         0.0           0.0           7.0  \n",
       "2      0.5         0.0           0.0           7.0  \n",
       "3      0.5         0.0           0.0           6.0  \n",
       "4      0.5         0.0           0.0          10.5  "
      ]
     },
     "execution_count": 5,
     "metadata": {},
     "output_type": "execute_result"
    }
   ],
   "source": [
    "tripFare1.head()"
   ]
  },
  {
   "cell_type": "markdown",
   "metadata": {},
   "source": [
    "# Database Connection "
   ]
  },
  {
   "cell_type": "code",
   "execution_count": 6,
   "metadata": {
    "ExecuteTime": {
     "end_time": "2019-07-02T06:19:00.536678Z",
     "start_time": "2019-07-02T06:19:00.530387Z"
    }
   },
   "outputs": [
    {
     "data": {
      "text/plain": [
       "<configparser.ConfigParser at 0x7fda4f42ec18>"
      ]
     },
     "execution_count": 6,
     "metadata": {},
     "output_type": "execute_result"
    }
   ],
   "source": [
    "config = configparser.ConfigParser()\n",
    "config"
   ]
  },
  {
   "cell_type": "code",
   "execution_count": 14,
   "metadata": {
    "ExecuteTime": {
     "end_time": "2019-07-02T06:19:38.294360Z",
     "start_time": "2019-07-02T06:19:38.288779Z"
    }
   },
   "outputs": [
    {
     "data": {
      "text/plain": [
       "['/dltraining/New-York-Taxi-Analysis/Secrets/passwords.ini']"
      ]
     },
     "execution_count": 14,
     "metadata": {},
     "output_type": "execute_result"
    }
   ],
   "source": [
    "config.read(\"/dltraining/New-York-Taxi-Analysis/Secrets/passwords.ini\")"
   ]
  },
  {
   "cell_type": "code",
   "execution_count": 8,
   "metadata": {
    "ExecuteTime": {
     "end_time": "2019-07-02T06:19:00.554233Z",
     "start_time": "2019-07-02T06:19:00.548188Z"
    }
   },
   "outputs": [
    {
     "data": {
      "text/plain": [
       "['Database_NYTaxi', 'Database_NYLocations']"
      ]
     },
     "execution_count": 8,
     "metadata": {},
     "output_type": "execute_result"
    }
   ],
   "source": [
    "config.sections()"
   ]
  },
  {
   "cell_type": "code",
   "execution_count": 9,
   "metadata": {
    "ExecuteTime": {
     "end_time": "2019-07-02T06:19:00.566677Z",
     "start_time": "2019-07-02T06:19:00.560668Z"
    }
   },
   "outputs": [
    {
     "data": {
      "text/plain": [
       "['user', 'securitytoken', 'host', 'port', 'dbname']"
      ]
     },
     "execution_count": 9,
     "metadata": {},
     "output_type": "execute_result"
    }
   ],
   "source": [
    "config.options('Database_NYTaxi')"
   ]
  },
  {
   "cell_type": "code",
   "execution_count": 10,
   "metadata": {
    "ExecuteTime": {
     "end_time": "2019-07-02T06:19:00.580361Z",
     "start_time": "2019-07-02T06:19:00.570772Z"
    }
   },
   "outputs": [
    {
     "name": "stdout",
     "output_type": "stream",
     "text": [
      "The Database NYCTaxiDB is found at nyctaxi.cq3rwooo9ghy.ap-southeast-2.rds.amazonaws.com on port 3306. It has a user of Administrator, with a password of X5LdUuzaZoY7CvUO7Gmpaw4Hed\n"
     ]
    }
   ],
   "source": [
    "## Database no longer exists, this is a demo only\n",
    "\n",
    "# Assigning values to variable\n",
    "host = config.get('Database_NYTaxi', 'host')\n",
    "port = config.get('Database_NYTaxi', 'port')\n",
    "dbname = config.get('Database_NYTaxi', 'dbname')\n",
    "user = config.get('Database_NYTaxi', 'user')\n",
    "password = config.get('Database_NYTaxi', 'securitytoken')\n",
    "print(\n",
    "    \"The Database %s is found at %s on port %s. It has a user of %s, with a password of %s\"\n",
    "    % (dbname, host, port, user, password))"
   ]
  },
  {
   "cell_type": "code",
   "execution_count": 11,
   "metadata": {
    "ExecuteTime": {
     "end_time": "2019-07-02T06:19:00.589978Z",
     "start_time": "2019-07-02T06:19:00.583577Z"
    }
   },
   "outputs": [
    {
     "data": {
      "text/plain": [
       "'FyD#*BgD9JdjtwFoiOZOCIr9V3od*Y'"
      ]
     },
     "execution_count": 11,
     "metadata": {},
     "output_type": "execute_result"
    }
   ],
   "source": [
    "config['Database_NYLocations']['securitytoken']"
   ]
  },
  {
   "cell_type": "code",
   "execution_count": 25,
   "metadata": {
    "ExecuteTime": {
     "end_time": "2019-07-02T06:23:52.360590Z",
     "start_time": "2019-07-02T06:23:52.354168Z"
    }
   },
   "outputs": [
    {
     "name": "stdout",
     "output_type": "stream",
     "text": [
      "The Database \"NYCTaxiLocationsDB\" is found at \"nyctaxilocations.cq3rwooo9ghy.ap-southeast-2.rds.amazonaws.com\" on port 3307. \n",
      "\n",
      "It has a user of \"Administrator\" with a password of -> FyD#*BgD9JdjtwFoiOZOCIr9V3od*Y \n",
      "\n",
      "\n"
     ]
    }
   ],
   "source": [
    "# A different take on accessing values in the same way that python does for values  [section][option]\n",
    "host = config['Database_NYLocations']['host']\n",
    "port = config['Database_NYLocations']['port']\n",
    "dbname = config['Database_NYLocations']['dbname']\n",
    "user = config['Database_NYLocations']['user']\n",
    "password = config['Database_NYLocations']['securitytoken']\n",
    "                      \n",
    "print(\n",
    "    \"The Database \\\"%s\\\" is found at \\\"%s\\\" on port %s. \\n\\n\"\n",
    "    \"It has a user of \\\"%s\\\" with a password of -> %s \\n\\n\"\n",
    "    % (dbname, host, port, user, password))"
   ]
  },
  {
   "cell_type": "code",
   "execution_count": 26,
   "metadata": {
    "ExecuteTime": {
     "end_time": "2019-07-02T06:24:09.551418Z",
     "start_time": "2019-07-02T06:24:09.545853Z"
    }
   },
   "outputs": [],
   "source": [
    "# create a connection to the database\n",
    "conn = pymysql.connect(host, user=user, port=port, passwd=password, db=dbname)"
   ]
  },
  {
   "cell_type": "code",
   "execution_count": null,
   "metadata": {
    "ExecuteTime": {
     "end_time": "2019-07-02T06:19:00.721966Z",
     "start_time": "2019-07-02T06:18:59.615Z"
    }
   },
   "outputs": [],
   "source": [
    "# create object to talk to the db\n",
    "cursorObject = conn.cursor()"
   ]
  },
  {
   "cell_type": "code",
   "execution_count": null,
   "metadata": {
    "ExecuteTime": {
     "end_time": "2019-07-02T06:19:00.724310Z",
     "start_time": "2019-07-02T06:18:59.616Z"
    }
   },
   "outputs": [],
   "source": [
    "# check to see if there are any tables\n",
    "sqlQuery = \"show tables\"\n",
    "cursorObject.execute(sqlQuery)\n",
    "for x in cursorObject:\n",
    "    print(x)"
   ]
  },
  {
   "cell_type": "code",
   "execution_count": null,
   "metadata": {
    "ExecuteTime": {
     "end_time": "2019-07-02T06:19:00.727015Z",
     "start_time": "2019-07-02T06:18:59.620Z"
    }
   },
   "outputs": [],
   "source": [
    "sqlQuery = \"CREATE TABLE tripData(id INT AUTO_INCREMENT PRIMARY KEY, medallion char(32), hack_license char(32), vendor_id varchar(32), rate_code int, store_and_fwd_flag char(5), pickup_datetime datetime, dropoff_datetime datetime , passenger_count int, trip_time_in_secs int, trip_distance float(10,5), pickup_longitude float(12, 7), pickup_latitude float(12, 7), dropoff_longitude float(12, 7), dropoff_latitude float(12, 7))\"\n",
    "cursorObject.execute(sqlQuery)"
   ]
  },
  {
   "cell_type": "code",
   "execution_count": null,
   "metadata": {
    "ExecuteTime": {
     "end_time": "2019-07-02T06:19:00.729433Z",
     "start_time": "2019-07-02T06:18:59.622Z"
    }
   },
   "outputs": [],
   "source": [
    "sqlQuery = \"CREATE TABLE fareData(id INT AUTO_INCREMENT PRIMARY KEY, medallion char(32), hack_license char(32), vendor_id varchar(32), pickup_datetime datetime, payment_type varchar(32), fare_amount float(10,3), surcharge float(10,3), mta_tax float(10,3), tip_amount float(10,3), tolls_amount float(10,3), total_amount float(10,3))\"\n",
    "cursorObject.execute(sqlQuery)"
   ]
  },
  {
   "cell_type": "code",
   "execution_count": null,
   "metadata": {
    "ExecuteTime": {
     "end_time": "2019-07-02T06:19:00.732147Z",
     "start_time": "2019-07-02T06:18:59.625Z"
    }
   },
   "outputs": [],
   "source": [
    "sqlQuery = \"show tables\"\n",
    "cursorObject.execute(sqlQuery)\n",
    "for x in cursorObject:\n",
    "    print(x)"
   ]
  },
  {
   "cell_type": "code",
   "execution_count": null,
   "metadata": {
    "ExecuteTime": {
     "end_time": "2019-07-02T06:19:00.734685Z",
     "start_time": "2019-07-02T06:18:59.627Z"
    }
   },
   "outputs": [],
   "source": [
    "tripFare1.to_sql(con=conn, name='fareData_1', if_exists='append', index=False)"
   ]
  },
  {
   "cell_type": "code",
   "execution_count": null,
   "metadata": {
    "ExecuteTime": {
     "end_time": "2019-07-02T06:19:00.736923Z",
     "start_time": "2019-07-02T06:18:59.630Z"
    }
   },
   "outputs": [],
   "source": [
    "sqlQuery = \"select count(*) from fareData\"\n",
    "cursorObject.execute(sqlQuery)\n",
    "for x in cursorObject:\n",
    "    print(x)"
   ]
  },
  {
   "cell_type": "code",
   "execution_count": null,
   "metadata": {
    "ExecuteTime": {
     "end_time": "2019-07-02T06:19:00.739402Z",
     "start_time": "2019-07-02T06:18:59.631Z"
    }
   },
   "outputs": [],
   "source": [
    "sqlQuery = \"ALTER TABLE NYCTaxiDB.fareData AUTO_INCREMENT =1\"\n",
    "cursorObject.execute(sqlQuery)\n",
    "for x in cursorObject:\n",
    "    print(x)"
   ]
  },
  {
   "cell_type": "code",
   "execution_count": null,
   "metadata": {
    "ExecuteTime": {
     "end_time": "2019-07-02T06:19:00.741847Z",
     "start_time": "2019-07-02T06:18:59.633Z"
    }
   },
   "outputs": [],
   "source": [
    "sqlQuery = \"SELECT name FROM sqlite_master WHERE type='table' AND name='fareData_1'\"\n",
    "cursorObject.execute(sqlQuery)\n",
    "for x in cursorObject:\n",
    "    print(x)"
   ]
  },
  {
   "cell_type": "code",
   "execution_count": null,
   "metadata": {
    "ExecuteTime": {
     "end_time": "2019-07-02T06:19:00.744688Z",
     "start_time": "2019-07-02T06:18:59.635Z"
    }
   },
   "outputs": [],
   "source": [
    "# close the connection\n",
    "conn.close()"
   ]
  }
 ],
 "metadata": {
  "kernelspec": {
   "display_name": "Python [conda env:working]",
   "language": "python",
   "name": "conda-env-working-py"
  },
  "language_info": {
   "codemirror_mode": {
    "name": "ipython",
    "version": 3
   },
   "file_extension": ".py",
   "mimetype": "text/x-python",
   "name": "python",
   "nbconvert_exporter": "python",
   "pygments_lexer": "ipython3",
   "version": "3.7.3"
  }
 },
 "nbformat": 4,
 "nbformat_minor": 2
}
