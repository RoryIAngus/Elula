{
 "cells": [
  {
   "cell_type": "code",
   "execution_count": 1,
   "metadata": {
    "ExecuteTime": {
     "end_time": "2019-07-07T07:14:48.564642Z",
     "start_time": "2019-07-07T07:14:47.591926Z"
    }
   },
   "outputs": [],
   "source": [
    "import matplotlib\n",
    "%matplotlib inline\n",
    "import matplotlib.pyplot as plt\n",
    "#import matplotlib as mpl\n",
    "from matplotlib.ticker import FuncFormatter\n",
    "import numpy as np\n",
    "import pandas as pd\n",
    "import pandas_profiling\n",
    "import math\n",
    "import seaborn as sns\n",
    "import gc\n",
    "\n",
    "from datetime import datetime\n",
    "from pygeocoder import Geocoder"
   ]
  },
  {
   "cell_type": "code",
   "execution_count": 2,
   "metadata": {
    "ExecuteTime": {
     "end_time": "2019-07-07T07:14:48.569773Z",
     "start_time": "2019-07-07T07:14:48.566921Z"
    }
   },
   "outputs": [],
   "source": [
    "pd.set_option('display.max_columns', None)"
   ]
  },
  {
   "cell_type": "code",
   "execution_count": 3,
   "metadata": {
    "ExecuteTime": {
     "end_time": "2019-07-07T07:14:48.577911Z",
     "start_time": "2019-07-07T07:14:48.572096Z"
    }
   },
   "outputs": [],
   "source": [
    "def currency(x, pos):\n",
    "    'The two args are the value and tick position'\n",
    "    if x >= 1000000:\n",
    "        return '${:1.1f}M'.format(x*1e-6)\n",
    "    elif x >= 1000000:\n",
    "        return '${:1.1f}K'.format(x*1e-3)\n",
    "    return '${:1.0f}'.format(x*1e-0)\n",
    "\n",
    "def number(x, pos):\n",
    "    'The two args are the value and tick position'\n",
    "    if x >= 1000000:\n",
    "        return '{:1.1f}M'.format(x*1e-6)\n",
    "    elif x >= 100000:\n",
    "        return '{:1.1f}K'.format(x*1e-3)\n",
    "    return '{:1.0f}'.format(x*1e-0)"
   ]
  },
  {
   "cell_type": "code",
   "execution_count": 4,
   "metadata": {
    "ExecuteTime": {
     "end_time": "2019-07-07T07:14:48.583052Z",
     "start_time": "2019-07-07T07:14:48.580021Z"
    }
   },
   "outputs": [],
   "source": [
    "#numRows = 5000  # 5 thousand\n",
    "#numRows = 50000  # 50 thousand\n",
    "#numRows = 500000  # 500 thousand\n",
    "#numRows = 1000000  # 1 million\n",
    "numRows = 1000000000  # 1 billion\n",
    "dt = \"Jan 2013\"\n",
    "fileMonth = \"1\""
   ]
  },
  {
   "cell_type": "code",
   "execution_count": 5,
   "metadata": {
    "ExecuteTime": {
     "end_time": "2019-07-07T07:14:48.588712Z",
     "start_time": "2019-07-07T07:14:48.584823Z"
    }
   },
   "outputs": [],
   "source": [
    "my_colors =[\n",
    "            '#1F77B4', '#AEC7E8', '#FF7F0E', '#FFBB78', '#2CA02C', '#98DF8A',\n",
    "            '#D62728', '#FF9896', '#9467BD', '#C5B0D5', '#8C564B', '#C49C94',\n",
    "            '#E377C2', '#F7B6D2', '#7F7F7F', '#C7C7C7', '#BCBD22', '#DBDB8D',\n",
    "            '#17BECF', '#9EDAE5'\n",
    "        ]"
   ]
  },
  {
   "cell_type": "code",
   "execution_count": 6,
   "metadata": {
    "ExecuteTime": {
     "end_time": "2019-07-07T07:14:48.594148Z",
     "start_time": "2019-07-07T07:14:48.590580Z"
    }
   },
   "outputs": [],
   "source": [
    "#set the fonts that are on the box so as to stop the warning messages\n",
    "# specify the custom font to use\n",
    "plt.rcParams['font.family'] = 'sans-serif'\n",
    "plt.rcParams['font.sans-serif'] = 'DejaVu Sans'"
   ]
  },
  {
   "cell_type": "markdown",
   "metadata": {},
   "source": [
    "# Read Data"
   ]
  },
  {
   "cell_type": "code",
   "execution_count": 7,
   "metadata": {
    "ExecuteTime": {
     "end_time": "2019-07-07T07:15:53.537264Z",
     "start_time": "2019-07-07T07:14:48.596042Z"
    }
   },
   "outputs": [],
   "source": [
    "tripData1 = pd.read_csv('/dltraining/datasets/Trip Data/trip_data_' + fileMonth + '.csv', nrows = numRows)"
   ]
  },
  {
   "cell_type": "code",
   "execution_count": 8,
   "metadata": {
    "ExecuteTime": {
     "end_time": "2019-07-07T07:15:53.543984Z",
     "start_time": "2019-07-07T07:15:53.539712Z"
    }
   },
   "outputs": [],
   "source": [
    "tripData1.columns = ['medallion', 'hack_license', 'vendor_id', 'rate_code',\n",
    "       'store_and_fwd_flag', 'pickup_datetime', 'dropoff_datetime',\n",
    "       'passenger_count', 'trip_time_in_secs', 'trip_distance',\n",
    "       'pickup_longitude', 'pickup_latitude', 'dropoff_longitude',\n",
    "       'dropoff_latitude']\n"
   ]
  },
  {
   "cell_type": "code",
   "execution_count": 9,
   "metadata": {
    "ExecuteTime": {
     "end_time": "2019-07-07T07:15:56.843320Z",
     "start_time": "2019-07-07T07:15:53.548027Z"
    }
   },
   "outputs": [
    {
     "name": "stdout",
     "output_type": "stream",
     "text": [
      "MinPickup: 2013-01-01 00:00:00, Max Pickup: 2013-01-31 23:59:59\n"
     ]
    }
   ],
   "source": [
    "# work out the min and max dates of the pickup time.\n",
    "minPickup=min(tripData1['pickup_datetime'])\n",
    "maxPickup=max(tripData1['pickup_datetime'])\n",
    "print('MinPickup: %s, Max Pickup: %s' % (minPickup, maxPickup))"
   ]
  },
  {
   "cell_type": "code",
   "execution_count": 10,
   "metadata": {
    "ExecuteTime": {
     "end_time": "2019-07-07T07:16:06.655244Z",
     "start_time": "2019-07-07T07:15:56.846483Z"
    }
   },
   "outputs": [],
   "source": [
    "#convert to datetime\n",
    "tripData1.loc[:, 'pickup_datetime_dt'] = pd.to_datetime(tripData1.loc[:, 'pickup_datetime'])\n",
    "tripData1.loc[:, 'dropoff_datetime_dt'] = pd.to_datetime(tripData1.loc[:, 'dropoff_datetime'])"
   ]
  },
  {
   "cell_type": "code",
   "execution_count": 11,
   "metadata": {
    "ExecuteTime": {
     "end_time": "2019-07-07T07:16:52.989826Z",
     "start_time": "2019-07-07T07:16:06.657621Z"
    }
   },
   "outputs": [],
   "source": [
    "tripFare1 = pd.read_csv('/dltraining/datasets/Trip Fare/trip_fare_' + fileMonth + '.csv', nrows = numRows) \n",
    "\n",
    "#remove the leading spaces\n",
    "tripFare1.columns = ['medallion', 'hack_license', 'vendor_id', 'pickup_datetime',\n",
    "       'payment_type', 'fare_amount', 'surcharge', 'mta_tax',\n",
    "       'tip_amount', 'tolls_amount', 'total_amount']"
   ]
  },
  {
   "cell_type": "code",
   "execution_count": 12,
   "metadata": {
    "ExecuteTime": {
     "end_time": "2019-07-07T07:16:53.013798Z",
     "start_time": "2019-07-07T07:16:52.992100Z"
    }
   },
   "outputs": [
    {
     "data": {
      "text/html": [
       "<div>\n",
       "<style scoped>\n",
       "    .dataframe tbody tr th:only-of-type {\n",
       "        vertical-align: middle;\n",
       "    }\n",
       "\n",
       "    .dataframe tbody tr th {\n",
       "        vertical-align: top;\n",
       "    }\n",
       "\n",
       "    .dataframe thead th {\n",
       "        text-align: right;\n",
       "    }\n",
       "</style>\n",
       "<table border=\"1\" class=\"dataframe\">\n",
       "  <thead>\n",
       "    <tr style=\"text-align: right;\">\n",
       "      <th></th>\n",
       "      <th>medallion</th>\n",
       "      <th>hack_license</th>\n",
       "      <th>vendor_id</th>\n",
       "      <th>pickup_datetime</th>\n",
       "      <th>payment_type</th>\n",
       "      <th>fare_amount</th>\n",
       "      <th>surcharge</th>\n",
       "      <th>mta_tax</th>\n",
       "      <th>tip_amount</th>\n",
       "      <th>tolls_amount</th>\n",
       "      <th>total_amount</th>\n",
       "    </tr>\n",
       "  </thead>\n",
       "  <tbody>\n",
       "    <tr>\n",
       "      <th>0</th>\n",
       "      <td>89D227B655E5C82AECF13C3F540D4CF4</td>\n",
       "      <td>BA96DE419E711691B9445D6A6307C170</td>\n",
       "      <td>CMT</td>\n",
       "      <td>2013-01-01 15:11:48</td>\n",
       "      <td>CSH</td>\n",
       "      <td>6.5</td>\n",
       "      <td>0.0</td>\n",
       "      <td>0.5</td>\n",
       "      <td>0.0</td>\n",
       "      <td>0.0</td>\n",
       "      <td>7.0</td>\n",
       "    </tr>\n",
       "    <tr>\n",
       "      <th>1</th>\n",
       "      <td>0BD7C8F5BA12B88E0B67BED28BEA73D8</td>\n",
       "      <td>9FD8F69F0804BDB5549F40E9DA1BE472</td>\n",
       "      <td>CMT</td>\n",
       "      <td>2013-01-06 00:18:35</td>\n",
       "      <td>CSH</td>\n",
       "      <td>6.0</td>\n",
       "      <td>0.5</td>\n",
       "      <td>0.5</td>\n",
       "      <td>0.0</td>\n",
       "      <td>0.0</td>\n",
       "      <td>7.0</td>\n",
       "    </tr>\n",
       "    <tr>\n",
       "      <th>2</th>\n",
       "      <td>0BD7C8F5BA12B88E0B67BED28BEA73D8</td>\n",
       "      <td>9FD8F69F0804BDB5549F40E9DA1BE472</td>\n",
       "      <td>CMT</td>\n",
       "      <td>2013-01-05 18:49:41</td>\n",
       "      <td>CSH</td>\n",
       "      <td>5.5</td>\n",
       "      <td>1.0</td>\n",
       "      <td>0.5</td>\n",
       "      <td>0.0</td>\n",
       "      <td>0.0</td>\n",
       "      <td>7.0</td>\n",
       "    </tr>\n",
       "    <tr>\n",
       "      <th>3</th>\n",
       "      <td>DFD2202EE08F7A8DC9A57B02ACB81FE2</td>\n",
       "      <td>51EE87E3205C985EF8431D850C786310</td>\n",
       "      <td>CMT</td>\n",
       "      <td>2013-01-07 23:54:15</td>\n",
       "      <td>CSH</td>\n",
       "      <td>5.0</td>\n",
       "      <td>0.5</td>\n",
       "      <td>0.5</td>\n",
       "      <td>0.0</td>\n",
       "      <td>0.0</td>\n",
       "      <td>6.0</td>\n",
       "    </tr>\n",
       "    <tr>\n",
       "      <th>4</th>\n",
       "      <td>DFD2202EE08F7A8DC9A57B02ACB81FE2</td>\n",
       "      <td>51EE87E3205C985EF8431D850C786310</td>\n",
       "      <td>CMT</td>\n",
       "      <td>2013-01-07 23:25:03</td>\n",
       "      <td>CSH</td>\n",
       "      <td>9.5</td>\n",
       "      <td>0.5</td>\n",
       "      <td>0.5</td>\n",
       "      <td>0.0</td>\n",
       "      <td>0.0</td>\n",
       "      <td>10.5</td>\n",
       "    </tr>\n",
       "  </tbody>\n",
       "</table>\n",
       "</div>"
      ],
      "text/plain": [
       "                          medallion                      hack_license  \\\n",
       "0  89D227B655E5C82AECF13C3F540D4CF4  BA96DE419E711691B9445D6A6307C170   \n",
       "1  0BD7C8F5BA12B88E0B67BED28BEA73D8  9FD8F69F0804BDB5549F40E9DA1BE472   \n",
       "2  0BD7C8F5BA12B88E0B67BED28BEA73D8  9FD8F69F0804BDB5549F40E9DA1BE472   \n",
       "3  DFD2202EE08F7A8DC9A57B02ACB81FE2  51EE87E3205C985EF8431D850C786310   \n",
       "4  DFD2202EE08F7A8DC9A57B02ACB81FE2  51EE87E3205C985EF8431D850C786310   \n",
       "\n",
       "  vendor_id      pickup_datetime payment_type  fare_amount  surcharge  \\\n",
       "0       CMT  2013-01-01 15:11:48          CSH          6.5        0.0   \n",
       "1       CMT  2013-01-06 00:18:35          CSH          6.0        0.5   \n",
       "2       CMT  2013-01-05 18:49:41          CSH          5.5        1.0   \n",
       "3       CMT  2013-01-07 23:54:15          CSH          5.0        0.5   \n",
       "4       CMT  2013-01-07 23:25:03          CSH          9.5        0.5   \n",
       "\n",
       "   mta_tax  tip_amount  tolls_amount  total_amount  \n",
       "0      0.5         0.0           0.0           7.0  \n",
       "1      0.5         0.0           0.0           7.0  \n",
       "2      0.5         0.0           0.0           7.0  \n",
       "3      0.5         0.0           0.0           6.0  \n",
       "4      0.5         0.0           0.0          10.5  "
      ]
     },
     "execution_count": 12,
     "metadata": {},
     "output_type": "execute_result"
    }
   ],
   "source": [
    "tripFare1.head()"
   ]
  },
  {
   "cell_type": "code",
   "execution_count": 13,
   "metadata": {
    "ExecuteTime": {
     "end_time": "2019-07-07T07:16:58.092406Z",
     "start_time": "2019-07-07T07:16:53.015652Z"
    }
   },
   "outputs": [],
   "source": [
    "#convert to datetime\n",
    "tripFare1.loc[:, 'pickup_datetime_dt'] = pd.to_datetime(tripFare1.loc[:, 'pickup_datetime'])"
   ]
  },
  {
   "cell_type": "markdown",
   "metadata": {},
   "source": [
    "# Profile the data"
   ]
  },
  {
   "cell_type": "markdown",
   "metadata": {
    "scrolled": true
   },
   "source": [
    "if numRows < 100000:\n",
    "    pandas_profiling.ProfileReport(tripFare1)"
   ]
  },
  {
   "cell_type": "markdown",
   "metadata": {
    "scrolled": true
   },
   "source": [
    "if numRows < 100000:\n",
    "    pandas_profiling.ProfileReport(tripData1)"
   ]
  },
  {
   "cell_type": "markdown",
   "metadata": {},
   "source": [
    "# Dropping null data\n",
    "\n",
    "Wanting to only include valid trips within the New York Region"
   ]
  },
  {
   "cell_type": "markdown",
   "metadata": {},
   "source": [
    "# Boundaries of New York (Lat/Long)\n",
    "<ul>\n",
    "  <li>40.706041, -73.927436 - Centre of New York</li>\n",
    "  <li>41.411137, -74.997657 - Top Left</li>\n",
    "  <li>40.027137, -74.893068 - Bottom Left</li>\n",
    "  <li>41.937288, -71.428648 - Top Right</li>\n",
    "  <li>39.905568, -71.365129 - Bottom Right</li>\n",
    "</ul>\n",
    "\n",
    "## Determine range of values should fall between\n",
    "<ul>\n",
    "  <li>39.900000 to 42.000000 - Lat Range</li>\n",
    "  <li>-71.000000 to -75.000000 - Long Range</li>\n",
    "</ul>\n"
   ]
  },
  {
   "cell_type": "code",
   "execution_count": 14,
   "metadata": {
    "ExecuteTime": {
     "end_time": "2019-07-07T07:17:00.464545Z",
     "start_time": "2019-07-07T07:16:58.094695Z"
    }
   },
   "outputs": [
    {
     "name": "stdout",
     "output_type": "stream",
     "text": [
      "Old size: 14776615\n",
      "New size: 14488163\n"
     ]
    }
   ],
   "source": [
    "#Drop rows with long / lat data that is either in correct or out of range that we are interested in\n",
    "print('Old size: %d' % len(tripData1))\n",
    "tripData1 = tripData1[((tripData1.pickup_longitude<=-71.000000) & (tripData1.pickup_longitude>=-75.000000)) &\\\n",
    "                      ((tripData1.pickup_latitude>=39.900000) & (tripData1.pickup_latitude<=42.000000)) &\\\n",
    "                      ((tripData1.dropoff_longitude<=-71.000000) & (tripData1.dropoff_longitude>=-75.000000)) &\\\n",
    "                      ((tripData1.dropoff_latitude>=39.900000) & (tripData1.dropoff_latitude<=42.000000))]\n",
    "\n",
    "print('New size: %d' % len(tripData1))"
   ]
  },
  {
   "cell_type": "markdown",
   "metadata": {},
   "source": [
    "## Verify the range of the data"
   ]
  },
  {
   "cell_type": "code",
   "execution_count": 15,
   "metadata": {
    "ExecuteTime": {
     "end_time": "2019-07-07T07:17:00.472892Z",
     "start_time": "2019-07-07T07:17:00.466706Z"
    }
   },
   "outputs": [
    {
     "data": {
      "text/plain": [
       "medallion                      object\n",
       "hack_license                   object\n",
       "vendor_id                      object\n",
       "rate_code                       int64\n",
       "store_and_fwd_flag             object\n",
       "pickup_datetime                object\n",
       "dropoff_datetime               object\n",
       "passenger_count                 int64\n",
       "trip_time_in_secs               int64\n",
       "trip_distance                 float64\n",
       "pickup_longitude              float64\n",
       "pickup_latitude               float64\n",
       "dropoff_longitude             float64\n",
       "dropoff_latitude              float64\n",
       "pickup_datetime_dt     datetime64[ns]\n",
       "dropoff_datetime_dt    datetime64[ns]\n",
       "dtype: object"
      ]
     },
     "execution_count": 15,
     "metadata": {},
     "output_type": "execute_result"
    }
   ],
   "source": [
    "tripData1.dtypes"
   ]
  },
  {
   "cell_type": "code",
   "execution_count": 16,
   "metadata": {
    "ExecuteTime": {
     "end_time": "2019-07-07T07:17:00.699697Z",
     "start_time": "2019-07-07T07:17:00.474969Z"
    }
   },
   "outputs": [
    {
     "data": {
      "text/plain": [
       "(-75.0, -71.01666999999999)"
      ]
     },
     "execution_count": 16,
     "metadata": {},
     "output_type": "execute_result"
    }
   ],
   "source": [
    "# minimum and maximum longitude\n",
    "min(tripData1.pickup_longitude.min(), tripData1.dropoff_longitude.min()), \\\n",
    "max(tripData1.pickup_longitude.max(), tripData1.dropoff_longitude.max())"
   ]
  },
  {
   "cell_type": "code",
   "execution_count": 17,
   "metadata": {
    "ExecuteTime": {
     "end_time": "2019-07-07T07:17:00.921061Z",
     "start_time": "2019-07-07T07:17:00.701883Z"
    }
   },
   "outputs": [
    {
     "data": {
      "text/plain": [
       "(39.912636, 42.0)"
      ]
     },
     "execution_count": 17,
     "metadata": {},
     "output_type": "execute_result"
    }
   ],
   "source": [
    "# minimum and maximum latitude\n",
    "min(tripData1.pickup_latitude.min(), tripData1.dropoff_latitude.min()), \\\n",
    "max(tripData1.pickup_latitude.max(), tripData1.dropoff_latitude.max())"
   ]
  },
  {
   "cell_type": "markdown",
   "metadata": {},
   "source": [
    "# Joining Data"
   ]
  },
  {
   "cell_type": "code",
   "execution_count": 18,
   "metadata": {
    "ExecuteTime": {
     "end_time": "2019-07-07T07:17:45.468944Z",
     "start_time": "2019-07-07T07:17:00.924201Z"
    }
   },
   "outputs": [],
   "source": [
    "tripDataFare = pd.merge(tripData1, tripFare1, how='left', left_on = ['medallion', 'hack_license', 'vendor_id', 'pickup_datetime', 'pickup_datetime_dt'], right_on = ['medallion', 'hack_license', 'vendor_id', 'pickup_datetime', 'pickup_datetime_dt'] )"
   ]
  },
  {
   "cell_type": "code",
   "execution_count": 19,
   "metadata": {
    "ExecuteTime": {
     "end_time": "2019-07-07T07:17:45.858120Z",
     "start_time": "2019-07-07T07:17:45.471038Z"
    }
   },
   "outputs": [],
   "source": [
    "# Delete the objects used to load the data as we now have a single file so don't need the old ones.\n",
    "del tripData1, tripFare1"
   ]
  },
  {
   "cell_type": "markdown",
   "metadata": {},
   "source": [
    "# Create New Fields"
   ]
  },
  {
   "cell_type": "markdown",
   "metadata": {},
   "source": [
    "## Trip Duration in Minutes"
   ]
  },
  {
   "cell_type": "code",
   "execution_count": 20,
   "metadata": {
    "ExecuteTime": {
     "end_time": "2019-07-07T07:17:45.930218Z",
     "start_time": "2019-07-07T07:17:45.860547Z"
    }
   },
   "outputs": [],
   "source": [
    "tripDataFare['trip_time_in_min'] = (tripDataFare['trip_time_in_secs']/60)"
   ]
  },
  {
   "cell_type": "code",
   "execution_count": 21,
   "metadata": {
    "ExecuteTime": {
     "end_time": "2019-07-07T07:17:45.938867Z",
     "start_time": "2019-07-07T07:17:45.932974Z"
    }
   },
   "outputs": [
    {
     "data": {
      "text/plain": [
       "Index(['medallion', 'hack_license', 'vendor_id', 'rate_code',\n",
       "       'store_and_fwd_flag', 'pickup_datetime', 'dropoff_datetime',\n",
       "       'passenger_count', 'trip_time_in_secs', 'trip_distance',\n",
       "       'pickup_longitude', 'pickup_latitude', 'dropoff_longitude',\n",
       "       'dropoff_latitude', 'pickup_datetime_dt', 'dropoff_datetime_dt',\n",
       "       'payment_type', 'fare_amount', 'surcharge', 'mta_tax', 'tip_amount',\n",
       "       'tolls_amount', 'total_amount', 'trip_time_in_min'],\n",
       "      dtype='object')"
      ]
     },
     "execution_count": 21,
     "metadata": {},
     "output_type": "execute_result"
    }
   ],
   "source": [
    "tripDataFare.columns"
   ]
  },
  {
   "cell_type": "markdown",
   "metadata": {},
   "source": [
    "## Address lookup"
   ]
  },
  {
   "cell_type": "code",
   "execution_count": 22,
   "metadata": {
    "ExecuteTime": {
     "end_time": "2019-07-07T07:17:45.944366Z",
     "start_time": "2019-07-07T07:17:45.941324Z"
    }
   },
   "outputs": [],
   "source": [
    "# Convert longitude and latitude to a location\n",
    "#results = Geocoder.reverse_geocode(tripDataFare['pickup_latitude'][0], tripDataFare['pickup_longitude'][0])"
   ]
  },
  {
   "cell_type": "markdown",
   "metadata": {},
   "source": [
    "# Date Dimensions"
   ]
  },
  {
   "cell_type": "code",
   "execution_count": 23,
   "metadata": {
    "ExecuteTime": {
     "end_time": "2019-07-07T07:17:45.952552Z",
     "start_time": "2019-07-07T07:17:45.946864Z"
    }
   },
   "outputs": [],
   "source": [
    "def weekDayName(i):\n",
    "    switcher={\n",
    "            0:'Monday',\n",
    "            1:'Tuesday',\n",
    "            2:'Wednesday',\n",
    "            3:'Thursday',\n",
    "            4:'Friday',\n",
    "            5:'Saturday',\n",
    "            6:'Sunday'\n",
    "         }\n",
    "    return str(switcher.get(i,\"Invalid day of week\"))"
   ]
  },
  {
   "cell_type": "code",
   "execution_count": 24,
   "metadata": {
    "ExecuteTime": {
     "end_time": "2019-07-07T07:17:45.960706Z",
     "start_time": "2019-07-07T07:17:45.954982Z"
    }
   },
   "outputs": [],
   "source": [
    "def weekdayWeekend(i):\n",
    "    switcher={\n",
    "            0:'Weekday',\n",
    "            1:'Weekday',\n",
    "            2:'Weekday',\n",
    "            3:'Weekday',\n",
    "            4:'Weekday',\n",
    "            5:'Weekend',\n",
    "            6:'Weekend'\n",
    "         }\n",
    "    return str(switcher.get(i,\"Invalid day of week\"))"
   ]
  },
  {
   "cell_type": "code",
   "execution_count": 25,
   "metadata": {
    "ExecuteTime": {
     "end_time": "2019-07-07T07:17:45.972171Z",
     "start_time": "2019-07-07T07:17:45.963229Z"
    }
   },
   "outputs": [],
   "source": [
    "# create a function to return a value for the time of day it is \n",
    "# these values are arbitary and need reviewing\n",
    "def timeOfDay(i):\n",
    "    switcher={\n",
    "            0:'Night',\n",
    "            1:'Night',\n",
    "            2:'Night',\n",
    "            3:'Night',\n",
    "            4:'Night',\n",
    "            5:'Night',\n",
    "            6:'Morning Rush Hour',\n",
    "            7:'Morning Rush Hour',\n",
    "            8:'Morning Rush Hour',\n",
    "            9:'Morning Rush Hour',\n",
    "            10:'Late morning',\n",
    "            11:'Late morning',\n",
    "            12:'Late morning',\n",
    "            13:'Early afternoon',\n",
    "            14:'Early afternoon',\n",
    "            15:'Early afternoon',\n",
    "            16:'Evening Rush Hour',\n",
    "            17:'Evening Rush Hour',\n",
    "            18:'Evening Rush Hour',\n",
    "            19:'Evening Rush Hour',\n",
    "            20:'Evening',\n",
    "            21:'Evening',\n",
    "            22:'Evening',\n",
    "            23:'Evening'\n",
    "         }\n",
    "    return switcher.get(i,\"Invalid Time\")"
   ]
  },
  {
   "cell_type": "markdown",
   "metadata": {},
   "source": [
    "## Pickup"
   ]
  },
  {
   "cell_type": "code",
   "execution_count": null,
   "metadata": {
    "ExecuteTime": {
     "start_time": "2019-07-07T07:14:46.968Z"
    }
   },
   "outputs": [],
   "source": [
    "# add date dimensional data for reporting reasons \n",
    "tripDataFare[\"pickup_day\"] = tripDataFare['pickup_datetime_dt'].map(lambda x: x.day)\n",
    "tripDataFare[\"pickup_month\"] = tripDataFare['pickup_datetime_dt'].map(lambda x: x.month)\n",
    "tripDataFare[\"pickup_year\"] = tripDataFare['pickup_datetime_dt'].map(lambda x: x.year)\n",
    "tripDataFare[\"pickup_date\"] = tripDataFare['pickup_datetime_dt'].map(lambda x: x.date())\n",
    "\n",
    "tripDataFare[\"pickup_weekday\"] = tripDataFare['pickup_datetime_dt'].map(lambda x: x.weekday())  # Monday = 0, Sunday = 6\n",
    "tripDataFare[\"pickup_isoweekday\"] = tripDataFare['pickup_datetime_dt'].map(lambda x: x.isoweekday())  # Monday = 1, Sunday = 7"
   ]
  },
  {
   "cell_type": "code",
   "execution_count": null,
   "metadata": {
    "ExecuteTime": {
     "start_time": "2019-07-07T07:14:46.974Z"
    }
   },
   "outputs": [],
   "source": [
    "# add time dimensional data for reporting reasons \n",
    "tripDataFare[\"pickup_hour\"] = tripDataFare['pickup_datetime_dt'].map(lambda x: x.hour)\n",
    "tripDataFare[\"pickup_minute\"] = tripDataFare['pickup_datetime_dt'].map(lambda x: x.minute)\n",
    "tripDataFare[\"pickup_time\"] = tripDataFare['pickup_datetime_dt'].map(lambda x: x.time())"
   ]
  },
  {
   "cell_type": "code",
   "execution_count": null,
   "metadata": {
    "ExecuteTime": {
     "start_time": "2019-07-07T07:14:46.978Z"
    }
   },
   "outputs": [],
   "source": [
    "# Convert the day number into a day of the week\n",
    "tripDataFare['pickup_dayName'] = tripDataFare[\"pickup_weekday\"].map(lambda x: weekDayName(x))"
   ]
  },
  {
   "cell_type": "code",
   "execution_count": null,
   "metadata": {
    "ExecuteTime": {
     "start_time": "2019-07-07T07:14:46.983Z"
    }
   },
   "outputs": [],
   "source": [
    "# Convert the day number into a day of the week\n",
    "tripDataFare['pickup_weekdayWeekend'] = tripDataFare[\"pickup_weekday\"].map(lambda x: weekdayWeekend(x))"
   ]
  },
  {
   "cell_type": "code",
   "execution_count": null,
   "metadata": {
    "ExecuteTime": {
     "start_time": "2019-07-07T07:14:46.986Z"
    }
   },
   "outputs": [],
   "source": [
    "tripDataFare['pickup_timeOfDay'] = tripDataFare['pickup_hour'].map(lambda x: timeOfDay(x))"
   ]
  },
  {
   "cell_type": "markdown",
   "metadata": {},
   "source": [
    "## Drop Off"
   ]
  },
  {
   "cell_type": "code",
   "execution_count": null,
   "metadata": {
    "ExecuteTime": {
     "start_time": "2019-07-07T07:14:46.991Z"
    }
   },
   "outputs": [],
   "source": [
    "# add date dimensional data for reporting reasons \n",
    "tripDataFare[\"dropoff_day\"] = tripDataFare['dropoff_datetime_dt'].map(lambda x: x.day)\n",
    "tripDataFare[\"dropoff_month\"] = tripDataFare['dropoff_datetime_dt'].map(lambda x: x.month)\n",
    "tripDataFare[\"dropoff_year\"] = tripDataFare['dropoff_datetime_dt'].map(lambda x: x.year)\n",
    "tripDataFare[\"dropoff_date\"] = tripDataFare['dropoff_datetime_dt'].map(lambda x: x.date())\n",
    "\n",
    "tripDataFare[\"dropoff_weekday\"] = tripDataFare['dropoff_datetime_dt'].map(lambda x: x.weekday())  # Monday = 0, Sunday = 6\n",
    "tripDataFare[\"dropoff_isoweekday\"] = tripDataFare['dropoff_datetime_dt'].map(lambda x: x.isoweekday())  # Monday = 1, Sunday = 7"
   ]
  },
  {
   "cell_type": "code",
   "execution_count": null,
   "metadata": {
    "ExecuteTime": {
     "start_time": "2019-07-07T07:14:46.999Z"
    }
   },
   "outputs": [],
   "source": [
    "# add time dimensional data for reporting reasons \n",
    "tripDataFare[\"dropoff_hour\"] = tripDataFare['dropoff_datetime_dt'].map(lambda x: x.hour)\n",
    "tripDataFare[\"dropoff_minute\"] = tripDataFare['dropoff_datetime_dt'].map(lambda x: x.minute)\n",
    "tripDataFare[\"dropoff_time\"] = tripDataFare['dropoff_datetime_dt'].map(lambda x: x.time())"
   ]
  },
  {
   "cell_type": "code",
   "execution_count": null,
   "metadata": {
    "ExecuteTime": {
     "start_time": "2019-07-07T07:14:47.006Z"
    }
   },
   "outputs": [],
   "source": [
    "# Convert the day number into a day of the week\n",
    "tripDataFare['dropoff_dayName'] = tripDataFare[\"dropoff_weekday\"].map(lambda x: weekDayName(x))"
   ]
  },
  {
   "cell_type": "code",
   "execution_count": null,
   "metadata": {
    "ExecuteTime": {
     "start_time": "2019-07-07T07:14:47.010Z"
    }
   },
   "outputs": [],
   "source": [
    "# Convert the day number into a day of the week\n",
    "tripDataFare['dropoff_weekdayWeekend'] = tripDataFare[\"dropoff_weekday\"].map(lambda x: weekdayWeekend(x))"
   ]
  },
  {
   "cell_type": "code",
   "execution_count": null,
   "metadata": {
    "ExecuteTime": {
     "start_time": "2019-07-07T07:14:47.016Z"
    }
   },
   "outputs": [],
   "source": [
    "tripDataFare['dropoff_timeOfDay'] = tripDataFare['dropoff_hour'].map(lambda x: timeOfDay(x))"
   ]
  },
  {
   "cell_type": "markdown",
   "metadata": {},
   "source": [
    "## Trip Distance"
   ]
  },
  {
   "cell_type": "code",
   "execution_count": null,
   "metadata": {
    "ExecuteTime": {
     "start_time": "2019-07-07T07:14:47.022Z"
    }
   },
   "outputs": [],
   "source": [
    "def tripLength(i):\n",
    "    if i <= 0:  # catches 0 and neg numbers as errors\n",
    "        result = \"Error\"\n",
    "    elif i > 0 and i <= 1:\n",
    "        result = \"up to 1 mile\"\n",
    "    elif i > 1 and i <= 5:\n",
    "        result = \"1 to 5 miles\"\n",
    "    elif i > 6 and i <= 10:\n",
    "        result = \"6 to 10 miles\"\n",
    "    elif i > 10 and i <= 20:\n",
    "        result = \"10 to 20 miles\"\n",
    "    else:\n",
    "        result = \"20 + miles\"\n",
    "    return result"
   ]
  },
  {
   "cell_type": "code",
   "execution_count": null,
   "metadata": {
    "ExecuteTime": {
     "start_time": "2019-07-07T07:14:47.030Z"
    }
   },
   "outputs": [],
   "source": [
    "def tripDuration(i):\n",
    "    if i <= 0:  # catches 0 and neg numbers as errors\n",
    "        result = \"Error\"\n",
    "    elif i > 0 and i <= 300: \n",
    "        result = \"up to 5 minutes\"\n",
    "    elif i > 300 and i <= 600:\n",
    "        result = \"5 to 10 minutes\"\n",
    "    elif i > 600 and i <= 900:\n",
    "        result = \"10 to 15 minutes\"\n",
    "    elif i > 900 and i <= 1200:\n",
    "        result = \"15 to 20 minutes\"\n",
    "    else:\n",
    "        result = \"20 + minutes\"\n",
    "    return result"
   ]
  },
  {
   "cell_type": "code",
   "execution_count": null,
   "metadata": {
    "ExecuteTime": {
     "start_time": "2019-07-07T07:14:47.037Z"
    }
   },
   "outputs": [],
   "source": [
    "# Convert the trip distance in a categorical variable\n",
    "tripDataFare['tripLength'] = tripDataFare[\"trip_distance\"].map(lambda x: tripLength(x))"
   ]
  },
  {
   "cell_type": "code",
   "execution_count": null,
   "metadata": {
    "ExecuteTime": {
     "start_time": "2019-07-07T07:14:47.044Z"
    }
   },
   "outputs": [],
   "source": [
    "tripDataFare[['medallion','tripLength']].groupby('tripLength').count()"
   ]
  },
  {
   "cell_type": "code",
   "execution_count": null,
   "metadata": {
    "ExecuteTime": {
     "start_time": "2019-07-07T07:14:47.049Z"
    }
   },
   "outputs": [],
   "source": [
    "# Convert the trip duration in a categorical variable\n",
    "tripDataFare['tripDuration'] = tripDataFare[\"trip_time_in_secs\"].map(lambda x: tripDuration(x))"
   ]
  },
  {
   "cell_type": "code",
   "execution_count": null,
   "metadata": {
    "ExecuteTime": {
     "start_time": "2019-07-07T07:14:47.053Z"
    }
   },
   "outputs": [],
   "source": [
    "tripDataFare[['medallion','tripDuration']].groupby('tripDuration').count()"
   ]
  },
  {
   "cell_type": "markdown",
   "metadata": {},
   "source": [
    "# Question 1\n",
    "\n",
    "How are Revenue, Trips, Passengers tracking over time"
   ]
  },
  {
   "cell_type": "code",
   "execution_count": null,
   "metadata": {
    "ExecuteTime": {
     "start_time": "2019-07-07T07:14:47.057Z"
    }
   },
   "outputs": [],
   "source": [
    "title_font = { 'size':'18', 'color':'black', 'weight':'normal',\n",
    "              'verticalalignment':'bottom'} # Bottom vertical alignment for more space"
   ]
  },
  {
   "cell_type": "code",
   "execution_count": null,
   "metadata": {
    "ExecuteTime": {
     "start_time": "2019-07-07T07:14:47.060Z"
    }
   },
   "outputs": [],
   "source": [
    "print(tripDataFare[['pickup_date', 'passenger_count']].shape)\n",
    "print(tripDataFare[['pickup_date', 'passenger_count']].head())\n",
    "print(tripDataFare[['pickup_date', 'passenger_count']].tail())"
   ]
  },
  {
   "cell_type": "markdown",
   "metadata": {},
   "source": [
    "## Number of Trips"
   ]
  },
  {
   "cell_type": "code",
   "execution_count": null,
   "metadata": {
    "ExecuteTime": {
     "start_time": "2019-07-07T07:14:47.066Z"
    }
   },
   "outputs": [],
   "source": [
    "# Calc the number of journeys per day\n",
    "visDataTrips = tripDataFare[['pickup_date','passenger_count']].groupby('pickup_date', as_index=False).count()\n",
    "# sort the dates\n",
    "visDataTrips = visDataTrips.sort_values(by=['pickup_date'])\n",
    "visDataTrips.columns = ['Pickup Date', '# of Trips']\n",
    "visDataTrips.head()"
   ]
  },
  {
   "cell_type": "code",
   "execution_count": null,
   "metadata": {
    "ExecuteTime": {
     "start_time": "2019-07-07T07:14:47.070Z"
    }
   },
   "outputs": [],
   "source": [
    "#plot\n",
    "fig, ax = plt.subplots(figsize=(20,5))\n",
    "ax.set_title('Number of Taxi Trips Made per Day for ' + dt, title_font)\n",
    "\n",
    "visDataTrips.plot(kind='line', x=\"Pickup Date\", y=\"# of Trips\", ax=ax)\n",
    "ax.set( xlabel='Pickup Date', ylabel='# of Trips')\n",
    "\n",
    "formatter = FuncFormatter(number)\n",
    "ax.yaxis.set_major_formatter(formatter)\n",
    "\n",
    "if dt == \"Jan 2013\":\n",
    "    ax.text('2013-01-22', ax.get_ylim()[0] + ax.get_ylim()[1] /10, \"Martin Luther King, Jr.'s Birthday\")\n",
    "    ax.text('2013-01-01', ax.get_ylim()[0] + ax.get_ylim()[1] /10, \"New Years Day\")\n",
    "\n",
    "plt.show()"
   ]
  },
  {
   "cell_type": "code",
   "execution_count": null,
   "metadata": {
    "ExecuteTime": {
     "start_time": "2019-07-07T07:14:47.073Z"
    }
   },
   "outputs": [],
   "source": [
    "ax.get_ylim()[1] /10"
   ]
  },
  {
   "cell_type": "markdown",
   "metadata": {},
   "source": [
    "## Number of Passengers"
   ]
  },
  {
   "cell_type": "code",
   "execution_count": null,
   "metadata": {
    "ExecuteTime": {
     "start_time": "2019-07-07T07:14:47.078Z"
    }
   },
   "outputs": [],
   "source": [
    "# Calc the number of passengers moved per day\n",
    "visDataPassenger = tripDataFare.groupby(['pickup_date'], as_index=False)['passenger_count'].agg('sum')\n",
    "# sort the dates\n",
    "visDataPassenger = visDataPassenger.sort_values(by=['pickup_date'])\n",
    "visDataPassenger.columns = ['Pickup Date', '# of Passengers']\n",
    "visDataPassenger.head()"
   ]
  },
  {
   "cell_type": "code",
   "execution_count": null,
   "metadata": {
    "ExecuteTime": {
     "start_time": "2019-07-07T07:14:47.083Z"
    }
   },
   "outputs": [],
   "source": [
    "#plot\n",
    "fig, ax = plt.subplots(figsize=(20,5))\n",
    "ax.set_title('Number of People Moved per Day for ' + dt, title_font)\n",
    "\n",
    "visDataPassenger.plot(kind='line', x=\"Pickup Date\", y=\"# of Passengers\", ax=ax)\n",
    "ax.set( xlabel='Pickup Date', ylabel='# of Passengers')\n",
    "\n",
    "formatter = FuncFormatter(number)\n",
    "ax.yaxis.set_major_formatter(formatter)\n",
    "\n",
    "if dt == \"Jan 2013\":\n",
    "    ax.text('2013-01-22', ax.get_ylim()[0] + ax.get_ylim()[1] /10, \"Martin Luther King, Jr.'s Birthday\")\n",
    "    ax.text('2013-01-01', ax.get_ylim()[0] + ax.get_ylim()[1] /10, \"New Years Day\")\n",
    "\n",
    "plt.show()"
   ]
  },
  {
   "cell_type": "markdown",
   "metadata": {},
   "source": [
    "## Revenue"
   ]
  },
  {
   "cell_type": "markdown",
   "metadata": {},
   "source": [
    "### Fare Revenue Only"
   ]
  },
  {
   "cell_type": "code",
   "execution_count": null,
   "metadata": {
    "ExecuteTime": {
     "start_time": "2019-07-07T07:14:47.089Z"
    }
   },
   "outputs": [],
   "source": [
    "# Calc the number of passengers moved per day\n",
    "visDataFareRevenue = tripDataFare.groupby(['pickup_date'], as_index=False)['fare_amount'].agg('sum')\n",
    "# sort the dates\n",
    "visDataFareRevenue = visDataFareRevenue.sort_values(by=['pickup_date'])\n",
    "visDataFareRevenue.columns = ['Pickup Date', 'Fare Revenue']\n",
    "visDataFareRevenue.head()"
   ]
  },
  {
   "cell_type": "code",
   "execution_count": null,
   "metadata": {
    "ExecuteTime": {
     "start_time": "2019-07-07T07:14:47.092Z"
    },
    "scrolled": true
   },
   "outputs": [],
   "source": [
    "fig, ax = plt.subplots(figsize=(20,5))\n",
    "ax.set_title('Total Fare Revenue per Day for ' + dt, title_font)\n",
    "\n",
    "visDataFareRevenue.plot(kind='line', x=\"Pickup Date\", y=\"Fare Revenue\", ax=ax)\n",
    "ax.set( xlabel='Pickup Date', ylabel='Fare Revenue')\n",
    "\n",
    "formatter = FuncFormatter(currency)\n",
    "ax.yaxis.set_major_formatter(formatter)\n",
    "\n",
    "if dt == \"Jan 2013\":\n",
    "    ax.text('2013-01-22', ax.get_ylim()[0] + ax.get_ylim()[1] /10, \"Martin Luther King, Jr.'s Birthday\")\n",
    "    ax.text('2013-01-01', ax.get_ylim()[0] + ax.get_ylim()[1] /10, \"New Years Day\")\n",
    "\n",
    "plt.show()"
   ]
  },
  {
   "cell_type": "markdown",
   "metadata": {},
   "source": [
    "### Total Revenue"
   ]
  },
  {
   "cell_type": "code",
   "execution_count": null,
   "metadata": {
    "ExecuteTime": {
     "start_time": "2019-07-07T07:14:47.098Z"
    }
   },
   "outputs": [],
   "source": [
    "# Calc the number of passengers moved per day\n",
    "visDataRevenue = tripDataFare.groupby(['pickup_date'], as_index=False)['total_amount'].agg('sum')\n",
    "# sort the dates\n",
    "visDataRevenue = visDataRevenue.sort_values(by=['pickup_date'])\n",
    "visDataRevenue.columns = ['Pickup Date', 'Total Revenue']\n",
    "visDataRevenue.head()"
   ]
  },
  {
   "cell_type": "code",
   "execution_count": null,
   "metadata": {
    "ExecuteTime": {
     "start_time": "2019-07-07T07:14:47.102Z"
    },
    "scrolled": true
   },
   "outputs": [],
   "source": [
    "fig, ax = plt.subplots(figsize=(20,5))\n",
    "ax.set_title('Total Revenue per Day for ' + dt, title_font)\n",
    "\n",
    "visDataRevenue.plot(kind='line', x=\"Pickup Date\", y=\"Total Revenue\", ax=ax)\n",
    "ax.set( xlabel='Pickup Date', ylabel='Total Revenue')\n",
    "\n",
    "formatter = FuncFormatter(currency)\n",
    "ax.yaxis.set_major_formatter(formatter)\n",
    "\n",
    "if dt == \"Jan 2013\":\n",
    "    ax.text('2013-01-22', ax.get_ylim()[0] + ax.get_ylim()[1] /10, \"Martin Luther King, Jr.'s Birthday\")\n",
    "    ax.text('2013-01-01', ax.get_ylim()[0] + ax.get_ylim()[1] /10, \"New Years Day\")\n",
    "\n",
    "plt.show()"
   ]
  },
  {
   "cell_type": "markdown",
   "metadata": {},
   "source": [
    "# Combined"
   ]
  },
  {
   "cell_type": "markdown",
   "metadata": {},
   "source": [
    "## Fare and Total Fare Revenue"
   ]
  },
  {
   "cell_type": "code",
   "execution_count": null,
   "metadata": {
    "ExecuteTime": {
     "start_time": "2019-07-07T07:14:47.107Z"
    }
   },
   "outputs": [],
   "source": [
    "fig, ax = plt.subplots(figsize=(20,5))\n",
    "ax.set_title('Total Fare & Fare Revenue per Day for ' + dt, title_font)\n",
    "\n",
    "visDataRevenue.plot(kind='line', x=\"Pickup Date\", y=\"Total Revenue\", ax=ax)\n",
    "visDataFareRevenue.plot(kind='line', x=\"Pickup Date\", y=\"Fare Revenue\", ax=ax)\n",
    "ax.set( xlabel='Pickup Date', ylabel='Revenue')\n",
    "\n",
    "formatter = FuncFormatter(currency)\n",
    "ax.yaxis.set_major_formatter(formatter)\n",
    "\n",
    "if dt == \"Jan 2013\":\n",
    "    ax.text('2013-01-22', ax.get_ylim()[0] + ax.get_ylim()[1] /10 , \"Martin Luther King, Jr.'s Birthday\")\n",
    "    ax.text('2013-01-01', ax.get_ylim()[0] + ax.get_ylim()[1] /10 , \"New Years Day\")\n",
    "\n",
    "plt.show()"
   ]
  },
  {
   "cell_type": "markdown",
   "metadata": {},
   "source": [
    "## Trips and Passengers"
   ]
  },
  {
   "cell_type": "markdown",
   "metadata": {},
   "source": [
    "## Trips and Passengers"
   ]
  },
  {
   "cell_type": "code",
   "execution_count": null,
   "metadata": {
    "ExecuteTime": {
     "start_time": "2019-07-07T07:14:47.114Z"
    }
   },
   "outputs": [],
   "source": [
    "#plot\n",
    "fig, ax = plt.subplots(figsize=(20,5))\n",
    "ax.set_title('Number of Taxi Trips Made per Day for ' + dt, title_font)\n",
    "\n",
    "visDataTrips.plot(kind='line', x=\"Pickup Date\", y=\"# of Trips\", ax=ax)\n",
    "visDataPassenger.plot(kind='line', x=\"Pickup Date\", y=\"# of Passengers\", ax=ax)\n",
    "ax.set( xlabel='Pickup Date', ylabel='Total Revenue')\n",
    "\n",
    "formatter = FuncFormatter(number)\n",
    "ax.yaxis.set_major_formatter(formatter)\n",
    "\n",
    "if dt == \"Jan 2013\":\n",
    "    ax.text('2013-01-22', ax.get_ylim()[0] + ax.get_ylim()[1] /10, \"Martin Luther King, Jr.'s Birthday\")\n",
    "    ax.text('2013-01-01', ax.get_ylim()[0] + ax.get_ylim()[1] /10, \"New Years Day\")\n",
    "\n",
    "plt.show()"
   ]
  },
  {
   "cell_type": "markdown",
   "metadata": {},
   "source": [
    "# Scatter"
   ]
  },
  {
   "cell_type": "markdown",
   "metadata": {},
   "source": [
    "## # of Trips & # of Passengers"
   ]
  },
  {
   "cell_type": "code",
   "execution_count": null,
   "metadata": {
    "ExecuteTime": {
     "start_time": "2019-07-07T07:14:47.122Z"
    }
   },
   "outputs": [],
   "source": [
    "visDataTripsPassengers = pd.merge(visDataTrips, visDataPassenger, how='left', left_on = ['Pickup Date'], right_on = ['Pickup Date'])\n",
    "visDataTripsPassengers.head()\n"
   ]
  },
  {
   "cell_type": "code",
   "execution_count": null,
   "metadata": {
    "ExecuteTime": {
     "start_time": "2019-07-07T07:14:47.125Z"
    }
   },
   "outputs": [],
   "source": [
    "#plot\n",
    "fig, ax = plt.subplots(figsize=(10,10))\n",
    "ax.set_title('Scatter of Taxi Trips Made per Day for ' + dt, title_font)\n",
    "\n",
    "visDataTripsPassengers.plot(kind='scatter', x='# of Passengers', y='# of Trips',  s=20, ax=ax)\n",
    "\n",
    "for line in range(0,visDataTripsPassengers.shape[0]):\n",
    "    ax.text(visDataTripsPassengers['# of Passengers'][line]+900, visDataTripsPassengers['# of Trips'][line]-4000, \\\n",
    "             visDataTripsPassengers['Pickup Date'][line], horizontalalignment='left', size='small', color='black')\n",
    "\n",
    "formatter = FuncFormatter(number)\n",
    "ax.yaxis.set_major_formatter(formatter)\n",
    "ax.xaxis.set_major_formatter(formatter)\n",
    "ax.plot(ax.get_xlim(), ax.get_ylim(), ls=\"--\", c=\".3\")\n",
    "\n",
    "plt.show()"
   ]
  },
  {
   "cell_type": "markdown",
   "metadata": {},
   "source": [
    "## Total Fare Revenue & # of Trips"
   ]
  },
  {
   "cell_type": "code",
   "execution_count": null,
   "metadata": {
    "ExecuteTime": {
     "start_time": "2019-07-07T07:14:47.133Z"
    }
   },
   "outputs": [],
   "source": [
    "visDataTripsPassengersRevenue = pd.merge(visDataTripsPassengers, visDataRevenue, how='left', left_on = ['Pickup Date'], right_on = ['Pickup Date'])\n",
    "visDataTripsPassengersRevenue.head()"
   ]
  },
  {
   "cell_type": "code",
   "execution_count": null,
   "metadata": {
    "ExecuteTime": {
     "start_time": "2019-07-07T07:14:47.136Z"
    },
    "scrolled": false
   },
   "outputs": [],
   "source": [
    "#plot\n",
    "fig, ax = plt.subplots(figsize=(10,10))\n",
    "ax.set_title('Scatter Plot of Taxi Trips Made per Day for ' + dt, title_font)\n",
    "\n",
    "visDataTripsPassengersRevenue.plot(kind='scatter', x='# of Trips', y='Total Revenue', s=20 , ax=ax)\n",
    "\n",
    "for line in range(0,visDataTripsPassengers.shape[0]):\n",
    "    ax.text(visDataTripsPassengersRevenue['# of Trips'][line]+900, visDataTripsPassengersRevenue['Total Revenue'][line]-4000, \\\n",
    "             visDataTripsPassengersRevenue['Pickup Date'][line], horizontalalignment='left', size='small', color='black')\n",
    "\n",
    "formatter = FuncFormatter(currency)\n",
    "ax.yaxis.set_major_formatter(formatter)\n",
    "formatter = FuncFormatter(number)\n",
    "ax.xaxis.set_major_formatter(formatter)\n",
    "ax.plot(ax.get_xlim(), ax.get_ylim(), ls=\"--\", c=\".3\")\n",
    "\n",
    "plt.show()"
   ]
  },
  {
   "cell_type": "markdown",
   "metadata": {},
   "source": [
    "## Total Fare Revenue & Fare Revenue"
   ]
  },
  {
   "cell_type": "code",
   "execution_count": null,
   "metadata": {
    "ExecuteTime": {
     "start_time": "2019-07-07T07:14:47.140Z"
    }
   },
   "outputs": [],
   "source": [
    "visDataTripsPassengersRevenueFareRevenue = pd.merge(visDataTripsPassengersRevenue, visDataFareRevenue, how='left', left_on = ['Pickup Date'], right_on = ['Pickup Date'])\n",
    "visDataTripsPassengersRevenueFareRevenue.head()"
   ]
  },
  {
   "cell_type": "code",
   "execution_count": null,
   "metadata": {
    "ExecuteTime": {
     "start_time": "2019-07-07T07:14:47.143Z"
    },
    "scrolled": false
   },
   "outputs": [],
   "source": [
    "#plot\n",
    "fig, ax = plt.subplots(figsize=(10,10))\n",
    "ax.set_title('Scatter Plot of Fare Revenue and Total Fare Revenue per Day for ' + dt, title_font)\n",
    "\n",
    "visDataTripsPassengersRevenueFareRevenue.plot(kind='scatter', x='Fare Revenue', y='Total Revenue', s=20 , ax=ax)\n",
    "\n",
    "for line in range(0,visDataTripsPassengers.shape[0]):\n",
    "    ax.text(visDataTripsPassengersRevenueFareRevenue['Fare Revenue'][line]+900, visDataTripsPassengersRevenueFareRevenue['Total Revenue'][line]-4000, \\\n",
    "             visDataTripsPassengersRevenueFareRevenue['Pickup Date'][line], horizontalalignment='left', size='small', color='black')\n",
    "\n",
    "formatter = FuncFormatter(currency)\n",
    "ax.yaxis.set_major_formatter(formatter)\n",
    "formatter = FuncFormatter(number)\n",
    "ax.xaxis.set_major_formatter(formatter)\n",
    "ax.plot(ax.get_xlim(), ax.get_ylim(), ls=\"--\", c=\".3\")\n",
    "\n",
    "plt.show()"
   ]
  },
  {
   "cell_type": "markdown",
   "metadata": {},
   "source": [
    "# Question 2\n"
   ]
  },
  {
   "cell_type": "markdown",
   "metadata": {},
   "source": [
    "# Visualising the busiest hours"
   ]
  },
  {
   "cell_type": "markdown",
   "metadata": {},
   "source": [
    "source: https://chih-ling-hsu.github.io/2018/05/14/NYC"
   ]
  },
  {
   "cell_type": "code",
   "execution_count": null,
   "metadata": {
    "ExecuteTime": {
     "start_time": "2019-07-07T07:14:47.151Z"
    }
   },
   "outputs": [],
   "source": [
    "def plt_clock(ax, radii, title, color):\n",
    "    N = 24\n",
    "    bottom = 2\n",
    "\n",
    "    # create theta for 24 hours\n",
    "    theta = np.linspace(0.0, 2 * np.pi, N, endpoint=False)\n",
    "\n",
    "\n",
    "    # width of each bin on the plot\n",
    "    width = (2*np.pi) / N\n",
    "    \n",
    "    bars = ax.bar(theta, radii, width=width, bottom=bottom, color=color, edgecolor=\"#999999\")\n",
    "\n",
    "    # set the lable go clockwise and start from the top\n",
    "    ax.set_theta_zero_location(\"N\")\n",
    "    # clockwise\n",
    "    ax.set_theta_direction(-1)\n",
    "\n",
    "    # set the label\n",
    "    ax.set_xticks(theta)\n",
    "    ticks = [\"{}:00\".format(x) for x in range(24)]\n",
    "    ax.set_xticklabels(ticks)\n",
    "    ax.set_title(title)"
   ]
  },
  {
   "cell_type": "markdown",
   "metadata": {},
   "source": [
    "## Getting the data into the correct format"
   ]
  },
  {
   "cell_type": "code",
   "execution_count": null,
   "metadata": {
    "ExecuteTime": {
     "start_time": "2019-07-07T07:14:47.156Z"
    }
   },
   "outputs": [],
   "source": [
    "def tripVis (tripLengthBoundary = 10):\n",
    "    visData = tripDataFare[['pickup_hour', 'dropoff_hour']][tripDataFare['trip_distance'] < tripLengthBoundary] \n",
    "    visData['count'] = 1\n",
    "    df_q3_short = visData.groupby(['pickup_hour', 'dropoff_hour'],as_index=False).count()\n",
    "    df_q3_short.columns = ['PUtime', 'DOtime', 'count']\n",
    "    #df_q3_short.head()\n",
    "    visData = tripDataFare[['pickup_hour', 'dropoff_hour']][tripDataFare['trip_distance'] >= tripLengthBoundary] \n",
    "    visData['count'] = 1\n",
    "    df_q3_long = visData.groupby(['pickup_hour', 'dropoff_hour'],as_index=False).count()\n",
    "    df_q3_long.columns = ['PUtime', 'DOtime', 'count']\n",
    "    #df_q3_long.head()\n",
    "    df_q3 = df_q3_short.merge(df_q3_long, how='left', on=[\"PUtime\", \"DOtime\"], suffixes=[\"_short\", \"_long\"]) \\\n",
    "                        .rename(columns={\"count_short\":\"short trips\", \"count_long\":\"long trips\", \\\n",
    "                                        \"PUtime\":\"pickup time\", \"DOtime\":\"dropoff time\"})\n",
    "    #create pickup time dataframe\n",
    "    df_q3_PU = df_q3.groupby([\"pickup time\"], as_index=False) \\\n",
    "            .agg({'short trips': 'sum', 'long trips':'sum'}) \\\n",
    "            .sort_values(by=\"pickup time\")\n",
    "    #df_q3_PU.head()\n",
    "    #create dropoff time dataframe\n",
    "    df_q3_DO = df_q3.groupby([\"dropoff time\"], as_index=False) \\\n",
    "            .agg({'short trips': 'sum', 'long trips':'sum'}) \\\n",
    "            .sort_values(by=\"dropoff time\")\n",
    "    #df_q3_DO.head()\n",
    "    # diff_short_long_trip_on_time()\n",
    "    fig, ax = plt.subplots(nrows=2, ncols=2, figsize=(18,18))\n",
    "\n",
    "    ax = plt.subplot(2,2,1, polar=True)\n",
    "    # make the histogram that bined on 24 hour\n",
    "    radii = np.array(df_q3_PU['short trips'].tolist(), dtype=\"int64\")\n",
    "    title = \"Pickup Time for Short Trips\"\n",
    "    plt_clock(ax, radii, title, \"#dc143c\")\n",
    "\n",
    "    ax = plt.subplot(2,2,2, polar=True)\n",
    "    # make the histogram that bined on 24 hour\n",
    "    radii = np.array(df_q3_PU['long trips'].tolist(), dtype=\"int64\")\n",
    "    title = \"Pickup Time for Long Trips\"\n",
    "    plt_clock(ax, radii, title, \"#56B4E9\")\n",
    "\n",
    "    ax = plt.subplot(2,2,3, polar=True)\n",
    "    # make the histogram that bined on 24 hour\n",
    "    radii = np.array(df_q3_DO['short trips'].tolist(), dtype=\"int64\")\n",
    "    title = \"Dropoff Time for Short Trips\"\n",
    "    plt_clock(ax, radii, title, \"#dc143c\")\n",
    "\n",
    "    ax = plt.subplot(2,2,4, polar=True)\n",
    "    # make the histogram that bined on 24 hour\n",
    "    radii = np.array(df_q3_DO['long trips'].tolist(), dtype=\"int64\")\n",
    "    title = \"Dropoff Time for Long Trips\"\n",
    "    plt_clock(ax, radii, title, \"#56B4E9\")"
   ]
  },
  {
   "cell_type": "code",
   "execution_count": null,
   "metadata": {
    "ExecuteTime": {
     "start_time": "2019-07-07T07:14:47.159Z"
    },
    "scrolled": true
   },
   "outputs": [],
   "source": [
    "tripVis(5)\n"
   ]
  },
  {
   "cell_type": "code",
   "execution_count": null,
   "metadata": {
    "ExecuteTime": {
     "start_time": "2019-07-07T07:14:47.163Z"
    },
    "scrolled": true
   },
   "outputs": [],
   "source": [
    "tripVis(10)"
   ]
  },
  {
   "cell_type": "code",
   "execution_count": null,
   "metadata": {
    "ExecuteTime": {
     "start_time": "2019-07-07T07:14:47.168Z"
    },
    "scrolled": true
   },
   "outputs": [],
   "source": [
    "tripVis(20)"
   ]
  },
  {
   "cell_type": "code",
   "execution_count": null,
   "metadata": {
    "ExecuteTime": {
     "start_time": "2019-07-07T07:14:47.171Z"
    },
    "scrolled": true
   },
   "outputs": [],
   "source": [
    "tripVis(30)"
   ]
  },
  {
   "cell_type": "code",
   "execution_count": null,
   "metadata": {
    "ExecuteTime": {
     "start_time": "2019-07-07T07:14:47.176Z"
    },
    "scrolled": true
   },
   "outputs": [],
   "source": [
    "tripVis(100)"
   ]
  },
  {
   "cell_type": "code",
   "execution_count": null,
   "metadata": {
    "ExecuteTime": {
     "start_time": "2019-07-07T07:14:47.181Z"
    },
    "scrolled": true
   },
   "outputs": [],
   "source": [
    "tripVis(200)"
   ]
  },
  {
   "cell_type": "code",
   "execution_count": null,
   "metadata": {
    "ExecuteTime": {
     "start_time": "2019-07-07T07:14:47.185Z"
    }
   },
   "outputs": [],
   "source": [
    "del  tripVis\n",
    "\n",
    "gc.collect()"
   ]
  },
  {
   "cell_type": "markdown",
   "metadata": {},
   "source": [
    "# Question 3\n",
    "\n",
    "How are Passengers per trip, payment type, fare and tip amounts distributed?\n"
   ]
  },
  {
   "cell_type": "markdown",
   "metadata": {},
   "source": [
    "## Reporting axis ordering section"
   ]
  },
  {
   "cell_type": "code",
   "execution_count": null,
   "metadata": {
    "ExecuteTime": {
     "start_time": "2019-07-07T07:14:47.190Z"
    }
   },
   "outputs": [],
   "source": [
    "def retOrderMapping(field):\n",
    "    if field == 'tripLength':\n",
    "            return tripLengthOrderMapping\n",
    "    elif field == 'tripDuration':\n",
    "        return tripDurationMapping\n",
    "    elif field == 'pickup_weekdayWeekend':\n",
    "        return weekdayWeekendMapping\n",
    "    elif field == 'pickup_dayName':\n",
    "        return dayNameMapping\n",
    "    elif field == 'vendor_id':\n",
    "        return vendor_idOrderMapping\n",
    "    elif field == 'payment_type':\n",
    "        return payment_typeOrderMapping  \n",
    "    elif field == 'Taxi Use':\n",
    "        return taxiUseOrderMapping  \n",
    "    elif field == 'pickup_timeOfDay':\n",
    "        return pickup_timeOfDayOrderMapping"
   ]
  },
  {
   "cell_type": "code",
   "execution_count": null,
   "metadata": {
    "ExecuteTime": {
     "start_time": "2019-07-07T07:14:47.193Z"
    }
   },
   "outputs": [],
   "source": [
    "tripLengthOrder = ['up to 1 mile', '1 to 5 miles', '6 to 10 miles', '10 to 20 miles', '20 + miles', 'Error']\n",
    "# this creates some value key pairs in the correct order\n",
    "tripLengthOrderMapping = {trip: i for i, trip in enumerate(tripLengthOrder)}\n",
    "del tripLengthOrder"
   ]
  },
  {
   "cell_type": "code",
   "execution_count": null,
   "metadata": {
    "ExecuteTime": {
     "start_time": "2019-07-07T07:14:47.198Z"
    }
   },
   "outputs": [],
   "source": [
    "payment_typeOrder = ['CSH', 'CRD', 'DIS', 'NOC',  'UNK']\n",
    "# this creates some value key pairs in the correct order\n",
    "payment_typeOrderMapping = {trip: i for i, trip in enumerate(payment_typeOrder)}\n",
    "del payment_typeOrder"
   ]
  },
  {
   "cell_type": "code",
   "execution_count": null,
   "metadata": {
    "ExecuteTime": {
     "start_time": "2019-07-07T07:14:47.202Z"
    }
   },
   "outputs": [],
   "source": [
    "vendor_idOrder = ['CMT', 'VTS']\n",
    "# this creates some value key pairs in the correct order\n",
    "vendor_idOrderMapping = {trip: i for i, trip in enumerate(vendor_idOrder)}\n",
    "del vendor_idOrder"
   ]
  },
  {
   "cell_type": "code",
   "execution_count": null,
   "metadata": {
    "ExecuteTime": {
     "start_time": "2019-07-07T07:14:47.205Z"
    }
   },
   "outputs": [],
   "source": [
    "taxiUseOrder = ['Single Use', 'Low', 'Medium', 'High', 'Extreme', 'Error']\n",
    "# this creates some value key pairs in the correct order\n",
    "taxiUseOrderMapping = {trip: i for i, trip in enumerate(taxiUseOrder)}\n",
    "del taxiUseOrder"
   ]
  },
  {
   "cell_type": "code",
   "execution_count": null,
   "metadata": {
    "ExecuteTime": {
     "start_time": "2019-07-07T07:14:47.208Z"
    }
   },
   "outputs": [],
   "source": [
    "pickup_timeOfDayOrder = ['Morning Rush Hour', 'Late morning', 'Early afternoon', 'Evening Rush Hour', 'Evening', 'Night', 'Error' ]\n",
    "# this creates some value key pairs in the correct order\n",
    "pickup_timeOfDayOrderMapping = {trip: i for i, trip in enumerate(pickup_timeOfDayOrder)}\n",
    "del pickup_timeOfDayOrder"
   ]
  },
  {
   "cell_type": "code",
   "execution_count": null,
   "metadata": {
    "ExecuteTime": {
     "start_time": "2019-07-07T07:14:47.213Z"
    }
   },
   "outputs": [],
   "source": [
    "weekdayWeekend = ['Weekday', 'Weekend']\n",
    "# this creates some value key pairs in the correct order\n",
    "weekdayWeekendMapping = {trip: i for i, trip in enumerate(weekdayWeekend)}\n",
    "del weekdayWeekend"
   ]
  },
  {
   "cell_type": "code",
   "execution_count": null,
   "metadata": {
    "ExecuteTime": {
     "start_time": "2019-07-07T07:14:47.217Z"
    }
   },
   "outputs": [],
   "source": [
    "tripDuration = ['up to 5 minutes', '5 to 10 minutes', '10 to 15 minutes', '15 to 20 minutes', '20 + minutes', 'Error']\n",
    "# this creates some value key pairs in the correct order\n",
    "tripDurationMapping = {trip: i for i, trip in enumerate(tripDuration)}\n",
    "del tripDuration"
   ]
  },
  {
   "cell_type": "code",
   "execution_count": null,
   "metadata": {
    "ExecuteTime": {
     "start_time": "2019-07-07T07:14:47.220Z"
    }
   },
   "outputs": [],
   "source": [
    "dayName = ['Monday', 'Tuesday', 'Wednesday', 'Thursday', 'Friday', 'Saturday', 'Sunday']\n",
    "# this creates some value key pairs in the correct order\n",
    "dayNameMapping = {trip: i for i, trip in enumerate(dayName)}\n",
    "del dayName"
   ]
  },
  {
   "cell_type": "code",
   "execution_count": null,
   "metadata": {
    "ExecuteTime": {
     "start_time": "2019-07-07T07:14:47.225Z"
    }
   },
   "outputs": [],
   "source": [
    "# free memory\n",
    "gc.collect()"
   ]
  },
  {
   "cell_type": "code",
   "execution_count": null,
   "metadata": {
    "ExecuteTime": {
     "start_time": "2019-07-07T07:14:47.229Z"
    }
   },
   "outputs": [],
   "source": [
    "# create a df to use for visualising\n",
    "visDataQ3 = tripDataFare[['pickup_date','passenger_count', 'trip_distance', 'rate_code',\n",
    "       'store_and_fwd_flag', 'payment_type', 'fare_amount', 'surcharge', 'mta_tax', 'tip_amount',\n",
    "       'tolls_amount', 'total_amount', 'pickup_dayName', 'pickup_weekdayWeekend', 'tripLength',\n",
    "       'tripDuration']]\n",
    "visDataQ3.head()"
   ]
  },
  {
   "cell_type": "markdown",
   "metadata": {},
   "source": [
    "## Visualisation Section"
   ]
  },
  {
   "cell_type": "markdown",
   "metadata": {},
   "source": [
    "### Passenger Count by Trip Length"
   ]
  },
  {
   "cell_type": "code",
   "execution_count": null,
   "metadata": {
    "ExecuteTime": {
     "start_time": "2019-07-07T07:14:47.237Z"
    }
   },
   "outputs": [],
   "source": [
    "# define which order we are using\n",
    "\n",
    "orderMapping = tripLengthOrderMapping"
   ]
  },
  {
   "cell_type": "code",
   "execution_count": null,
   "metadata": {
    "ExecuteTime": {
     "start_time": "2019-07-07T07:14:47.241Z"
    }
   },
   "outputs": [],
   "source": [
    "byField = 'tripLength'\n",
    "countField = 'passenger_count'\n",
    "\n",
    "\n",
    "# Calc the number of journeys per day\n",
    "visQ3 = visDataQ3[[byField,countField]].groupby(byField, as_index=False)[countField].agg('sum')\n",
    "\n",
    "visQ3.head()"
   ]
  },
  {
   "cell_type": "code",
   "execution_count": null,
   "metadata": {
    "ExecuteTime": {
     "start_time": "2019-07-07T07:14:47.244Z"
    }
   },
   "outputs": [],
   "source": [
    "# create the sort key\n",
    "key = visQ3[byField].map(orderMapping) \n",
    "# reorganise the dataframe to the correct sort order\n",
    "visQ3 = visQ3.iloc[key.argsort()]\n",
    "\n",
    "visQ3.head()"
   ]
  },
  {
   "cell_type": "code",
   "execution_count": null,
   "metadata": {
    "ExecuteTime": {
     "start_time": "2019-07-07T07:14:47.250Z"
    },
    "scrolled": true
   },
   "outputs": [],
   "source": [
    "#plot\n",
    "fig, ax = plt.subplots(figsize=(15,10))\n",
    "ax.set_title('Passenger Count by Trip Length for ' + dt, title_font)\n",
    "\n",
    "visQ3.plot(kind='bar', x=byField, y=countField, ax=ax)\n",
    "\n",
    "formatter = FuncFormatter(number)\n",
    "ax.yaxis.set_major_formatter(formatter)\n",
    "\n",
    "plt.show()"
   ]
  },
  {
   "cell_type": "markdown",
   "metadata": {},
   "source": [
    "### Total Revenue by Trip Length"
   ]
  },
  {
   "cell_type": "code",
   "execution_count": null,
   "metadata": {
    "ExecuteTime": {
     "start_time": "2019-07-07T07:14:47.254Z"
    }
   },
   "outputs": [],
   "source": [
    "# define which order we are using\n",
    "orderMapping = tripLengthOrderMapping"
   ]
  },
  {
   "cell_type": "code",
   "execution_count": null,
   "metadata": {
    "ExecuteTime": {
     "start_time": "2019-07-07T07:14:47.257Z"
    }
   },
   "outputs": [],
   "source": [
    "byField = 'tripLength'\n",
    "countField = 'total_amount'\n",
    "\n",
    "\n",
    "# Calc the number of journeys per day\n",
    "visQ3 = visDataQ3[[byField,countField]].groupby(byField, as_index=False)[countField].agg('sum')\n",
    "\n",
    "visQ3.head()"
   ]
  },
  {
   "cell_type": "code",
   "execution_count": null,
   "metadata": {
    "ExecuteTime": {
     "start_time": "2019-07-07T07:14:47.261Z"
    }
   },
   "outputs": [],
   "source": [
    "# create the sort key\n",
    "key = visQ3[byField].map(orderMapping) \n",
    "# reorganise the dataframe to the correct sort order\n",
    "visQ3 = visQ3.iloc[key.argsort()]\n",
    "\n",
    "visQ3.head()"
   ]
  },
  {
   "cell_type": "code",
   "execution_count": null,
   "metadata": {
    "ExecuteTime": {
     "start_time": "2019-07-07T07:14:47.266Z"
    },
    "scrolled": false
   },
   "outputs": [],
   "source": [
    "#plot\n",
    "fig, ax = plt.subplots(figsize=(15,10))\n",
    "ax.set_title('Total Revenue by Trip Length for ' + dt, title_font)\n",
    "\n",
    "visQ3.plot(kind='bar', x=byField, y=countField, ax=ax)\n",
    "\n",
    "formatter = FuncFormatter(number)\n",
    "ax.yaxis.set_major_formatter(formatter)\n",
    "\n",
    "plt.show()"
   ]
  },
  {
   "cell_type": "markdown",
   "metadata": {},
   "source": [
    "### Passenger Count by Trip Duration"
   ]
  },
  {
   "cell_type": "code",
   "execution_count": null,
   "metadata": {
    "ExecuteTime": {
     "start_time": "2019-07-07T07:14:47.270Z"
    }
   },
   "outputs": [],
   "source": [
    "# define which order we are using\n",
    "orderMapping = tripDurationMapping"
   ]
  },
  {
   "cell_type": "code",
   "execution_count": null,
   "metadata": {
    "ExecuteTime": {
     "start_time": "2019-07-07T07:14:47.291Z"
    }
   },
   "outputs": [],
   "source": [
    "byField = 'tripDuration'\n",
    "countField = 'passenger_count'\n",
    "\n",
    "# Calc the number of journeys per day\n",
    "visQ3 = visDataQ3[[byField,countField]].groupby(byField, as_index=False)[countField].agg('sum')\n",
    "\n",
    "visQ3"
   ]
  },
  {
   "cell_type": "code",
   "execution_count": null,
   "metadata": {
    "ExecuteTime": {
     "start_time": "2019-07-07T07:14:47.298Z"
    }
   },
   "outputs": [],
   "source": [
    "visQ3['tripDuration']"
   ]
  },
  {
   "cell_type": "code",
   "execution_count": null,
   "metadata": {
    "ExecuteTime": {
     "start_time": "2019-07-07T07:14:47.304Z"
    }
   },
   "outputs": [],
   "source": [
    "# create the sort key\n",
    "key = visQ3['tripDuration'].map(orderMapping) \n",
    "# reorganise the dataframe to the correct sort order\n",
    "visQ3 = visQ3.iloc[key.argsort()]\n",
    "\n",
    "visQ3.head()"
   ]
  },
  {
   "cell_type": "code",
   "execution_count": null,
   "metadata": {
    "ExecuteTime": {
     "start_time": "2019-07-07T07:14:47.316Z"
    },
    "scrolled": true
   },
   "outputs": [],
   "source": [
    "#plot\n",
    "fig, ax = plt.subplots(figsize=(15,10))\n",
    "ax.set_title('Passenger Count by Trip Duration for ' + dt, title_font)\n",
    "\n",
    "visQ3.plot(kind='bar', x=byField, y=countField, ax=ax)\n",
    "\n",
    "formatter = FuncFormatter(number)\n",
    "ax.yaxis.set_major_formatter(formatter)\n",
    "\n",
    "plt.show()"
   ]
  },
  {
   "cell_type": "markdown",
   "metadata": {},
   "source": [
    "### Total Revenue by Trip Duration"
   ]
  },
  {
   "cell_type": "code",
   "execution_count": null,
   "metadata": {
    "ExecuteTime": {
     "start_time": "2019-07-07T07:14:47.325Z"
    }
   },
   "outputs": [],
   "source": [
    "# define which order we are using\n",
    "orderMapping = tripDurationMapping"
   ]
  },
  {
   "cell_type": "code",
   "execution_count": null,
   "metadata": {
    "ExecuteTime": {
     "start_time": "2019-07-07T07:14:47.335Z"
    }
   },
   "outputs": [],
   "source": [
    "byField = 'tripDuration'\n",
    "countField = 'total_amount'\n",
    "\n",
    "# Calc the number of journeys per day\n",
    "visQ3 = visDataQ3[[byField,countField]].groupby(byField, as_index=False)[countField].agg('sum')\n",
    "\n",
    "visQ3"
   ]
  },
  {
   "cell_type": "code",
   "execution_count": null,
   "metadata": {
    "ExecuteTime": {
     "start_time": "2019-07-07T07:14:47.340Z"
    }
   },
   "outputs": [],
   "source": [
    "# create the sort key\n",
    "key = visQ3['tripDuration'].map(orderMapping) \n",
    "# reorganise the dataframe to the correct sort order\n",
    "visQ3 = visQ3.iloc[key.argsort()]\n",
    "\n",
    "visQ3.head()"
   ]
  },
  {
   "cell_type": "code",
   "execution_count": null,
   "metadata": {
    "ExecuteTime": {
     "start_time": "2019-07-07T07:14:47.354Z"
    },
    "scrolled": false
   },
   "outputs": [],
   "source": [
    "#plot\n",
    "fig, ax = plt.subplots(figsize=(15,10))\n",
    "ax.set_title('Revenue by Trip Duration for ' + dt, title_font)\n",
    "\n",
    "visQ3.plot(kind='bar', x=byField, y=countField, ax=ax)\n",
    "\n",
    "formatter = FuncFormatter(currency)\n",
    "ax.yaxis.set_major_formatter(formatter)\n",
    "\n",
    "plt.show()"
   ]
  },
  {
   "cell_type": "markdown",
   "metadata": {},
   "source": [
    "## Day of the Week"
   ]
  },
  {
   "cell_type": "code",
   "execution_count": null,
   "metadata": {
    "ExecuteTime": {
     "start_time": "2019-07-07T07:14:47.371Z"
    }
   },
   "outputs": [],
   "source": [
    "# define which order we are using\n",
    "orderMapping = tripDurationMapping"
   ]
  },
  {
   "cell_type": "code",
   "execution_count": null,
   "metadata": {
    "ExecuteTime": {
     "start_time": "2019-07-07T07:14:47.385Z"
    }
   },
   "outputs": [],
   "source": [
    "byField = 'pickup_dayName'\n",
    "countField = 'total_amount'\n",
    "\n",
    "# Calc the number of journeys per day\n",
    "visQ3 = tripDataFare[[byField,countField]].groupby(byField, as_index=False)[countField].agg('sum')\n",
    "\n",
    "visQ3"
   ]
  },
  {
   "cell_type": "code",
   "execution_count": null,
   "metadata": {
    "ExecuteTime": {
     "start_time": "2019-07-07T07:14:47.392Z"
    }
   },
   "outputs": [],
   "source": [
    "# create the sort key\n",
    "key = visQ3[byField].map(retOrderMapping(byField)) \n",
    "# reorganise the dataframe to the correct sort order\n",
    "visQ3 = visQ3.iloc[key.argsort()]\n",
    "\n",
    "visQ3.head()"
   ]
  },
  {
   "cell_type": "code",
   "execution_count": null,
   "metadata": {
    "ExecuteTime": {
     "start_time": "2019-07-07T07:14:47.407Z"
    },
    "scrolled": false
   },
   "outputs": [],
   "source": [
    "\n",
    "fig, ax = plt.subplots(figsize=(15,10))\n",
    "ax.set_title('Trips per Day of the Week in ' + dt, title_font)\n",
    "\n",
    "visQ3.plot(kind='bar', x=byField, y=countField, ax=ax)\n",
    "ax.set_xlabel(\"Day of the week\")\n",
    "\n",
    "formatter = FuncFormatter(number)\n",
    "ax.yaxis.set_major_formatter(formatter)\n",
    "\n",
    "plt.show()"
   ]
  },
  {
   "cell_type": "code",
   "execution_count": null,
   "metadata": {
    "ExecuteTime": {
     "start_time": "2019-07-07T07:14:47.435Z"
    }
   },
   "outputs": [],
   "source": [
    "#clean up\n",
    "del visDataQ3, visQ3\n",
    "\n",
    "gc.collect()"
   ]
  },
  {
   "cell_type": "markdown",
   "metadata": {},
   "source": [
    "# Drivers"
   ]
  },
  {
   "cell_type": "code",
   "execution_count": null,
   "metadata": {
    "ExecuteTime": {
     "start_time": "2019-07-07T07:14:47.452Z"
    }
   },
   "outputs": [],
   "source": [
    "def taxiUse(i):\n",
    "    # look at the number of taxis they use and categorise on that\n",
    "    if i <= 0:  # catches 0 and neg numbers as errors\n",
    "        result = \"Error\"\n",
    "    elif i > 0 and i <= 1:\n",
    "        result = \"Single Use\"\n",
    "    elif i > 1 and i <= 5:\n",
    "        result = \"Low\"\n",
    "    elif i > 6 and i <= 10:\n",
    "        result = \"Medium\"\n",
    "    elif i > 10 and i <= 20:\n",
    "        result = \"High\"\n",
    "    else:\n",
    "        result = \"Extreme\"\n",
    "    return result"
   ]
  },
  {
   "cell_type": "code",
   "execution_count": null,
   "metadata": {
    "ExecuteTime": {
     "start_time": "2019-07-07T07:14:47.457Z"
    }
   },
   "outputs": [],
   "source": [
    "driverVehicle = tripDataFare[['medallion', 'hack_license', 'fare_amount', 'tip_amount', 'total_amount', 'trip_time_in_secs']]\n",
    "driverVehicle['count'] = 1"
   ]
  },
  {
   "cell_type": "code",
   "execution_count": null,
   "metadata": {
    "ExecuteTime": {
     "start_time": "2019-07-07T07:14:47.469Z"
    },
    "scrolled": true
   },
   "outputs": [],
   "source": [
    "#driverVehicle.groupby(['medallion', 'hack_license']).agg('sum')"
   ]
  },
  {
   "cell_type": "code",
   "execution_count": null,
   "metadata": {
    "ExecuteTime": {
     "start_time": "2019-07-07T07:14:47.488Z"
    }
   },
   "outputs": [],
   "source": [
    "# filter out some rows for testing code\n",
    "filter = ['00567B1CBFD51DDFAC73359B09238922', '0002555BBE359440D6CEB34B699D3932', '00B7691D86D96AEBD21DD9E138F90840']\n",
    "#driverVehicle[driverVehicle['hack_license'].isin(filter)].groupby(['hack_license', 'medallion']).agg('count')"
   ]
  },
  {
   "cell_type": "code",
   "execution_count": null,
   "metadata": {
    "ExecuteTime": {
     "start_time": "2019-07-07T07:14:47.493Z"
    }
   },
   "outputs": [],
   "source": [
    "# filter out some rows for testing code\n",
    "#driverVehicle[['hack_license', 'medallion']][driverVehicle['hack_license'].isin(filter)].groupby(['hack_license'])['medallion'].nunique()"
   ]
  },
  {
   "cell_type": "code",
   "execution_count": null,
   "metadata": {
    "ExecuteTime": {
     "start_time": "2019-07-07T07:14:47.501Z"
    }
   },
   "outputs": [],
   "source": [
    "#driverVehicle[driverVehicle['hack_license'].isin(filter)].groupby(['hack_license', 'medallion'], as_index=False).agg('sum')"
   ]
  },
  {
   "cell_type": "code",
   "execution_count": null,
   "metadata": {
    "ExecuteTime": {
     "start_time": "2019-07-07T07:14:47.505Z"
    }
   },
   "outputs": [],
   "source": [
    "driverTaxiJourneys = driverVehicle.groupby(['hack_license', 'medallion'], as_index=False).agg('sum')\n",
    "driverTaxiJourneys.head()"
   ]
  },
  {
   "cell_type": "code",
   "execution_count": null,
   "metadata": {
    "ExecuteTime": {
     "start_time": "2019-07-07T07:14:47.509Z"
    }
   },
   "outputs": [],
   "source": [
    "driverTaxiJourneys.columns = ['Driver', 'Taxi', 'Fare Amount', 'Tip Amount', 'Total Amount', 'Trip Time (sec)', 'Trip Count',]"
   ]
  },
  {
   "cell_type": "code",
   "execution_count": null,
   "metadata": {
    "ExecuteTime": {
     "start_time": "2019-07-07T07:14:47.517Z"
    }
   },
   "outputs": [],
   "source": [
    "# calculate the number of taxis jounreys used by a driver in the data (in this case a month)\n",
    "# output of value counts is a series so need to convert to frame and then reset the index to bring the driver into a column\n",
    "driverInfo = driverTaxiJourneys['Driver'].value_counts().to_frame().reset_index()\n",
    "driverInfo.columns = ['Driver', '# of Taxis']\n",
    "driverInfo.head()"
   ]
  },
  {
   "cell_type": "code",
   "execution_count": null,
   "metadata": {
    "ExecuteTime": {
     "start_time": "2019-07-07T07:14:47.521Z"
    }
   },
   "outputs": [],
   "source": [
    "# add in the total number of trips the driver has made this month\n",
    "# this is done inline\n",
    "driverInfo = pd.merge(driverInfo, \\\n",
    "                      driverTaxiJourneys.groupby(['Driver'], as_index=False).agg([\"sum\", \"mean\"]), \\\n",
    "                      how='left', \\\n",
    "                      left_on = ['Driver'], \\\n",
    "                      right_on = ['Driver'] )\n",
    "driverInfo.head()"
   ]
  },
  {
   "cell_type": "code",
   "execution_count": null,
   "metadata": {
    "ExecuteTime": {
     "start_time": "2019-07-07T07:14:47.531Z"
    }
   },
   "outputs": [],
   "source": [
    "driverInfo.columns = ['Driver', '# of Taxis', 'Fare Amount (sum)', 'Fare Amount (mean)', 'Tip Amount (sum)', 'Tip Amount (mean)', 'Total Amount (sum)', 'Total Amount (mean)', 'Trip Time (sec) (sum)', 'Trip Time (sec) (mean)', 'Trip Count (sum)','Trip Count (mean)']"
   ]
  },
  {
   "cell_type": "code",
   "execution_count": null,
   "metadata": {
    "ExecuteTime": {
     "start_time": "2019-07-07T07:14:47.538Z"
    }
   },
   "outputs": [],
   "source": [
    "driverInfo['Trips Per Taxi'] = driverInfo['Trip Count (sum)'] / driverInfo['# of Taxis']\n",
    "driverInfo['Fare Per Trip'] = driverInfo['Fare Amount (sum)'] / driverInfo['Trip Count (sum)']\n",
    "driverInfo['Tip Per Trip'] = driverInfo['Tip Amount (sum)'] / driverInfo['Trip Count (sum)']\n",
    "driverInfo['Amount Per Trip'] = driverInfo['Total Amount (sum)'] / driverInfo['Trip Count (sum)']\n",
    "driverInfo['Journey Time (sec) Per Trip'] = driverInfo['Trip Time (sec) (sum)'] / driverInfo['Trip Count (sum)']\n",
    "driverInfo['Journey Time (mins) Per Trip'] = (driverInfo['Trip Time (sec) (sum)']/60) / driverInfo['Trip Count (sum)']\n",
    "driverInfo['Trip Time (mins) (sum)'] = (driverInfo['Trip Time (sec) (sum)']/60)\n",
    "driverInfo['Trip Time (hrs) (sum)'] = (driverInfo['Trip Time (sec) (sum)']/3600)\n",
    "driverInfo['Trip Time (mins) (mean)'] = (driverInfo['Trip Time (sec) (mean)']/60)\n",
    "driverInfo.head()"
   ]
  },
  {
   "cell_type": "markdown",
   "metadata": {
    "scrolled": true
   },
   "source": [
    "Code to view the counts \n",
    "from collections import Counter\n",
    "hist = Counter(driverInfo['# of Taxis'])\n"
   ]
  },
  {
   "cell_type": "code",
   "execution_count": null,
   "metadata": {
    "ExecuteTime": {
     "start_time": "2019-07-07T07:14:47.542Z"
    }
   },
   "outputs": [],
   "source": [
    "# # look at the number of taxis they use and categorise on that\n",
    "driverInfo['Taxi Use'] = driverInfo[\"# of Taxis\"].map(lambda x: taxiUse(x))"
   ]
  },
  {
   "cell_type": "markdown",
   "metadata": {},
   "source": [
    "## Plotting - Driver info"
   ]
  },
  {
   "cell_type": "code",
   "execution_count": null,
   "metadata": {
    "ExecuteTime": {
     "start_time": "2019-07-07T07:14:47.551Z"
    }
   },
   "outputs": [],
   "source": [
    "byField = '# of Taxis'\n",
    "#plot logarithmic\n",
    "fig, ax = plt.subplots(figsize=(15,10))\n",
    "ax.set_title('Number of Taxis used by a driver in ' + dt, title_font)\n",
    "\n",
    "driverInfo[byField].plot(kind='hist',   bins=driverInfo['# of Taxis'].max(), ax=ax)\n",
    "ax.set_yscale('log')\n",
    "ax.set_ylabel(\"# of Taxis Used (logarithmic)\")\n",
    "\n",
    "if dt == \"Jan 2013\":\n",
    "    ax.text(250, ax.get_ylim()[0] + ax.get_ylim()[1] /5000, \"1 Driver logged 333 different vehicles\")\n",
    "    \n",
    "plt.show()\n"
   ]
  },
  {
   "cell_type": "code",
   "execution_count": null,
   "metadata": {
    "ExecuteTime": {
     "start_time": "2019-07-07T07:14:47.557Z"
    }
   },
   "outputs": [],
   "source": [
    "byField = '# of Taxis'\n",
    "#plot logarithmic\n",
    "fig, ax = plt.subplots(figsize=(15,10))\n",
    "ax.set_title('Number of Taxis used by a driver in ' + dt, title_font)\n",
    "\n",
    "driverInfo[byField].plot(kind='hist',   bins=driverInfo['# of Taxis'].max(), ax=ax)\n",
    "\n",
    "formatter = FuncFormatter(number)\n",
    "ax.yaxis.set_major_formatter(formatter)\n",
    "ax.set_ylabel(\"# of Taxis Used\")\n",
    "\n",
    "\n",
    "plt.show()\n"
   ]
  },
  {
   "cell_type": "code",
   "execution_count": null,
   "metadata": {
    "ExecuteTime": {
     "start_time": "2019-07-07T07:14:47.561Z"
    }
   },
   "outputs": [],
   "source": [
    "byField = 'Trip Count (sum)'\n",
    "#plot logarithmic\n",
    "fig, ax = plt.subplots(figsize=(15,10))\n",
    "ax.set_title('Total Number of Trips made by a driver in ' + dt, title_font)\n",
    "\n",
    "driverInfo[byField].plot(kind='hist', bins=driverInfo[byField].max(), ax=ax)\n",
    "ax.set_xlabel(\"Total # of Trips\")\n",
    "if dt == \"Jan 2013\":\n",
    "    ax.text(3, ax.get_ylim()[0] + ax.get_ylim()[1] /1.2, \"%.0f Drivers only made one trip, with an Mean of %.1f mins a trip.\"  \\\n",
    "    \"\\n    \\\n",
    "    (Min:%.0f, Max:%.0f, SD: %.1f)\" % (driverInfo['Trip Time (mins) (mean)'][driverInfo[byField]==1].count(), \\\n",
    "                                        driverInfo['Trip Time (mins) (mean)'][driverInfo[byField]==1].mean(), \\\n",
    "                                        driverInfo['Trip Time (mins) (mean)'][driverInfo[byField]==1].min(), \\\n",
    "                                        driverInfo['Trip Time (mins) (mean)'][driverInfo[byField]==1].max(), \\\n",
    "                                        driverInfo['Trip Time (mins) (mean)'][driverInfo[byField]==1].std()))\n",
    "\n",
    "plt.show()\n"
   ]
  },
  {
   "cell_type": "code",
   "execution_count": null,
   "metadata": {
    "ExecuteTime": {
     "start_time": "2019-07-07T07:14:47.566Z"
    }
   },
   "outputs": [],
   "source": [
    "#Calc for the above chart\n",
    "print(driverInfo['Trip Time (mins) (mean)'][driverInfo[byField]==1].count())\n",
    "print(driverInfo['Trip Time (mins) (mean)'][driverInfo[byField]==1].mean())\n",
    "print(driverInfo['Trip Time (mins) (mean)'][driverInfo[byField]==1].min())\n",
    "print(driverInfo['Trip Time (mins) (mean)'][driverInfo[byField]==1].mode())"
   ]
  },
  {
   "cell_type": "code",
   "execution_count": null,
   "metadata": {
    "ExecuteTime": {
     "start_time": "2019-07-07T07:14:47.570Z"
    }
   },
   "outputs": [],
   "source": [
    "#Counter(driverInfo['Trip Time (mins) (mean)'][driverInfo[byField]==1].astype(int))"
   ]
  },
  {
   "cell_type": "code",
   "execution_count": null,
   "metadata": {
    "ExecuteTime": {
     "start_time": "2019-07-07T07:14:47.573Z"
    }
   },
   "outputs": [],
   "source": [
    "print( \"%.0f Drivers only made one trip, with an average of %.1f mins a trip.\"  \\\n",
    "    \"(min:%.1f, Max:%.1f, SD: %.1f)\" % (driverInfo['Trip Time (mins) (mean)'][driverInfo[byField]==1].count(), \\\n",
    "                                        driverInfo['Trip Time (mins) (mean)'][driverInfo[byField]==1].mean(), \\\n",
    "                                        driverInfo['Trip Time (mins) (mean)'][driverInfo[byField]==1].min(), \\\n",
    "                                        driverInfo['Trip Time (mins) (mean)'][driverInfo[byField]==1].max(), \\\n",
    "                                        driverInfo['Trip Time (mins) (mean)'][driverInfo[byField]==1].std()))"
   ]
  },
  {
   "cell_type": "markdown",
   "metadata": {},
   "source": [
    "### Trips per taxi"
   ]
  },
  {
   "cell_type": "code",
   "execution_count": null,
   "metadata": {
    "ExecuteTime": {
     "start_time": "2019-07-07T07:14:47.579Z"
    },
    "scrolled": false
   },
   "outputs": [],
   "source": [
    "byField = 'Trips Per Taxi'\n",
    "#plot logarithmic\n",
    "fig, ax = plt.subplots(figsize=(15,10))\n",
    "ax.set_title('Number of Trips Per Taxi made by a driver in ' + dt, title_font)\n",
    "\n",
    "driverInfo[byField].plot(kind='hist', bins=driverInfo[byField].astype(int).max(), ax=ax)\n",
    "ax.set_xlabel(\"# of Trips Per Taxi\")\n",
    "\n",
    "plt.show()"
   ]
  },
  {
   "cell_type": "code",
   "execution_count": null,
   "metadata": {
    "ExecuteTime": {
     "start_time": "2019-07-07T07:14:47.584Z"
    }
   },
   "outputs": [],
   "source": [
    "\n",
    "driverInfo.head()"
   ]
  },
  {
   "cell_type": "code",
   "execution_count": null,
   "metadata": {
    "ExecuteTime": {
     "start_time": "2019-07-07T07:14:47.588Z"
    }
   },
   "outputs": [],
   "source": [
    "byField = 'Tip Per Trip'\n",
    "#plot logarithmic\n",
    "fig, ax = plt.subplots(figsize=(15,10))\n",
    "ax.set_title('Tip Per Trips in ' + dt, title_font)\n",
    "\n",
    "driverInfo[byField].plot(kind='hist',   bins=driverInfo[byField].max().astype(int), ax=ax)\n",
    "ax.set_xlabel(\"# of Trips Per Taxi\")\n",
    "\n",
    "plt.show()"
   ]
  },
  {
   "cell_type": "markdown",
   "metadata": {},
   "source": [
    "## Scatter Plots\n",
    "\n",
    "To Do: Fix Axis so that they are the same"
   ]
  },
  {
   "cell_type": "code",
   "execution_count": null,
   "metadata": {
    "ExecuteTime": {
     "start_time": "2019-07-07T07:14:47.592Z"
    }
   },
   "outputs": [],
   "source": [
    "#plot\n",
    "alpha = 0.3\n",
    "fig, ax = plt.subplots(figsize=(15,15))\n",
    "ax.set_title('Scatter of Mean Journey Time vs Mean Tip Per Trip for ' + dt, title_font)\n",
    "\n",
    "colors = {\"Error\":'red', \"Single Use\":'green', \"Low\":'blue', \"Medium\":'yellow', \"High\":'magenta', \"Extreme\":'black'}\n",
    "\n",
    "driverInfo.plot(kind='scatter', y='Tip Per Trip', x='Journey Time (mins) Per Trip',\\\n",
    "                c=driverInfo['Taxi Use'].apply(lambda x: colors[x]), \\\n",
    "                s=20, ax=ax, lw=0, alpha=alpha)\n",
    "\n",
    "\n",
    "formatter = FuncFormatter(currency)\n",
    "ax.yaxis.set_major_formatter(formatter)\n",
    "formatter = FuncFormatter(number)\n",
    "ax.xaxis.set_major_formatter(formatter)\n",
    "ax.set_xlim([0,120])\n",
    "ax.set_ylim([0,15])\n",
    "ax.plot(ax.get_xlim(), ax.get_ylim(), ls=\"--\", c=\".3\")\n",
    "\n",
    "plt.show()"
   ]
  },
  {
   "cell_type": "code",
   "execution_count": null,
   "metadata": {
    "ExecuteTime": {
     "start_time": "2019-07-07T07:14:47.602Z"
    }
   },
   "outputs": [],
   "source": [
    "#plot\n",
    "alpha = 0.3\n",
    "filter=[\"Single Use\",\"Low\"]\n",
    "\n",
    "fig, ax = plt.subplots(figsize=(15,15))\n",
    "ax.set_title('Scatter of Mean Journey Time vs Mean Tip Per Trip for ' + dt, title_font)\n",
    "\n",
    "colors = {\"Error\":'red', \"Single Use\":'green', \"Low\":'blue', \"Medium\":'cyan', \"High\":'magenta', \"Extreme\":'black'}\n",
    "\n",
    "driverInfo[driverInfo['Taxi Use'].isin(filter)].plot(kind='scatter', y='Tip Per Trip', x='Journey Time (mins) Per Trip',\\\n",
    "                c=driverInfo['Taxi Use'][driverInfo['Taxi Use'].isin(filter)].apply(lambda x: colors[x]), \\\n",
    "                s=20, ax=ax, lw=0, alpha=alpha)\n",
    "\n",
    "\n",
    "formatter = FuncFormatter(currency)\n",
    "ax.yaxis.set_major_formatter(formatter)\n",
    "formatter = FuncFormatter(number)\n",
    "ax.xaxis.set_major_formatter(formatter)\n",
    "ax.set_xlim([0,120])\n",
    "ax.set_ylim([0,15])\n",
    "\n",
    "ax.plot(ax.get_xlim(), ax.get_ylim(), ls=\"--\", c=\".3\")\n",
    "\n",
    "plt.show()"
   ]
  },
  {
   "cell_type": "code",
   "execution_count": null,
   "metadata": {
    "ExecuteTime": {
     "start_time": "2019-07-07T07:14:47.608Z"
    }
   },
   "outputs": [],
   "source": [
    "#plot\n",
    "alpha = 0.3\n",
    "filter=[\"Single Use\",\"Low\"]\n",
    "\n",
    "fig, ax = plt.subplots(figsize=(15,15))\n",
    "ax.set_title('Scatter of Mean Journey Time vs Mean Tip Per Trip for ' + dt, title_font)\n",
    "\n",
    "colors = {\"Error\":'red', \"Single Use\":'green', \"Low\":'blue', \"Medium\":'cyan', \"High\":'magenta', \"Extreme\":'black'}\n",
    "\n",
    "driverInfo[~driverInfo['Taxi Use'].isin(filter)].plot(kind='scatter', y='Tip Per Trip', x='Journey Time (mins) Per Trip',\\\n",
    "                c=driverInfo['Taxi Use'][~driverInfo['Taxi Use'].isin(filter)].apply(lambda x: colors[x]), \\\n",
    "                s=20, ax=ax, lw=0, alpha=alpha)\n",
    "\n",
    "\n",
    "formatter = FuncFormatter(currency)\n",
    "ax.yaxis.set_major_formatter(formatter)\n",
    "formatter = FuncFormatter(number)\n",
    "ax.xaxis.set_major_formatter(formatter)\n",
    "ax.set_xlim([0,120])\n",
    "ax.set_ylim([0,15])\n",
    "ax.plot(ax.get_xlim(), ax.get_ylim(), ls=\"--\", c=\".3\")\n",
    "\n",
    "plt.show()"
   ]
  },
  {
   "cell_type": "code",
   "execution_count": null,
   "metadata": {
    "ExecuteTime": {
     "start_time": "2019-07-07T07:14:47.619Z"
    }
   },
   "outputs": [],
   "source": [
    "tripDataFare.columns"
   ]
  },
  {
   "cell_type": "code",
   "execution_count": null,
   "metadata": {
    "ExecuteTime": {
     "start_time": "2019-07-07T07:14:47.625Z"
    }
   },
   "outputs": [],
   "source": [
    "tripDataFare = pd.merge(tripDataFare, driverInfo[['Driver', 'Taxi Use']], \\\n",
    "                        how='left', left_on = ['hack_license'], right_on = ['Driver'])\n",
    "# dont need the extra column as it is the same\n",
    "tripDataFare.drop('Driver', axis=1)\n",
    "tripDataFare.head()"
   ]
  },
  {
   "cell_type": "code",
   "execution_count": null,
   "metadata": {
    "ExecuteTime": {
     "start_time": "2019-07-07T07:14:47.635Z"
    }
   },
   "outputs": [],
   "source": [
    "del driverInfo, driverTaxiJourneys, driverVehicle\n",
    "gc.collect()"
   ]
  },
  {
   "cell_type": "code",
   "execution_count": null,
   "metadata": {
    "ExecuteTime": {
     "start_time": "2019-07-07T07:14:47.639Z"
    }
   },
   "outputs": [],
   "source": [
    "del visDataFareRevenue, visDataPassenger,  visDataRevenue, visDataTrips, visDataTripsPassengers, \\\n",
    "visDataTripsPassengersRevenue, visDataTripsPassengersRevenueFareRevenue\n",
    "\n",
    "gc.collect()"
   ]
  },
  {
   "cell_type": "code",
   "execution_count": null,
   "metadata": {
    "ExecuteTime": {
     "start_time": "2019-07-07T07:14:47.644Z"
    }
   },
   "outputs": [],
   "source": [
    "gc.collect()"
   ]
  },
  {
   "cell_type": "markdown",
   "metadata": {},
   "source": [
    "## Boxplots\n"
   ]
  },
  {
   "cell_type": "code",
   "execution_count": null,
   "metadata": {
    "ExecuteTime": {
     "start_time": "2019-07-07T07:14:47.651Z"
    }
   },
   "outputs": [],
   "source": [
    "def comparisonBoxplots(xaxis, yaxis, palette, title=\"No Title Supplied\", showmeans=True, showfliers=True):\n",
    "    fig = plt.figure(1, figsize=(10,5))\n",
    "    ax = sns.boxplot(x=xaxis, y=yaxis, palette=palette, showmeans=showmeans, showfliers=showfliers)\n",
    "    # set the title of the chart\n",
    "    plt.title(title)\n",
    "    # set the labels - x  is blank because we don't need it to say \"Summary\"\n",
    "    ax.set(xlabel='', ylabel='')\n",
    "    # set the labels on the individual x-axis columns\n",
    "    ax.set_xticklabels(labels=ax.get_xticklabels(), rotation=25)\n",
    "    plt.show()\n",
    "    print('-' * 100)\n",
    "    return\n",
    "\n"
   ]
  },
  {
   "cell_type": "code",
   "execution_count": null,
   "metadata": {
    "ExecuteTime": {
     "start_time": "2019-07-07T07:14:47.654Z"
    },
    "scrolled": false
   },
   "outputs": [],
   "source": [
    "plotValue = ['tip_amount']\n",
    "byValue = ['vendor_id', 'payment_type', 'Taxi Use', 'tripLength', 'tripDuration',  'pickup_dayName', \\\n",
    "           'pickup_weekdayWeekend', 'pickup_timeOfDay']\n",
    "\n",
    "for pv in plotValue:\n",
    "    for bv in byValue:\n",
    "        #reorder the df to print nicely\n",
    "        key = tripDataFare[bv].map(retOrderMapping(bv))\n",
    "        tripDataFare = tripDataFare.iloc[key.argsort()]\n",
    "        #print the first chart without outliers\n",
    "        comparisonBoxplots(\n",
    "            tripDataFare[bv],\n",
    "            tripDataFare[pv],\n",
    "            palette=[my_colors[2], my_colors[1]],\n",
    "            title=\"Box Plot of \" + pv,\n",
    "            showmeans=True,\n",
    "            showfliers=False)\n",
    "        # print the second chart without outliers\n",
    "        comparisonBoxplots(\n",
    "            tripDataFare[bv],\n",
    "            tripDataFare[pv],\n",
    "            palette=[my_colors[2], my_colors[1]],\n",
    "            title=\"Box Plot of \" + pv,\n",
    "            showmeans=True,\n",
    "            showfliers=True)"
   ]
  },
  {
   "cell_type": "code",
   "execution_count": null,
   "metadata": {
    "ExecuteTime": {
     "start_time": "2019-07-07T07:14:47.657Z"
    },
    "scrolled": false
   },
   "outputs": [],
   "source": [
    "plotValue = ['total_amount']\n",
    "byValue = ['vendor_id', 'payment_type', 'Taxi Use', 'tripLength', 'tripDuration',  'pickup_dayName', \\\n",
    "           'pickup_weekdayWeekend', 'pickup_timeOfDay']\n",
    "\n",
    "for pv in plotValue:\n",
    "    for bv in byValue:\n",
    "        #reorder the df to print nicely\n",
    "        key = tripDataFare[bv].map(retOrderMapping(bv))\n",
    "        tripDataFare = tripDataFare.iloc[key.argsort()]\n",
    "        #print the first chart without outliers\n",
    "        comparisonBoxplots(\n",
    "            tripDataFare[bv],\n",
    "            tripDataFare[pv],\n",
    "            palette=[my_colors[2], my_colors[1]],\n",
    "            title=\"Box Plot of \" + pv,\n",
    "            showmeans=True,\n",
    "            showfliers=False)\n",
    "        # print the second chart without outliers\n",
    "        comparisonBoxplots(\n",
    "            tripDataFare[bv],\n",
    "            tripDataFare[pv],\n",
    "            palette=[my_colors[2], my_colors[1]],\n",
    "            title=\"Box Plot of \" + pv,\n",
    "            showmeans=True,\n",
    "            showfliers=True)"
   ]
  },
  {
   "cell_type": "code",
   "execution_count": null,
   "metadata": {
    "ExecuteTime": {
     "start_time": "2019-07-07T07:14:47.661Z"
    }
   },
   "outputs": [],
   "source": [
    "#save data\n",
    "tripDataFare.to_pickle('tripDataFare_Final'+dt+'.pkl')"
   ]
  },
  {
   "cell_type": "code",
   "execution_count": null,
   "metadata": {
    "ExecuteTime": {
     "start_time": "2019-07-07T07:14:47.665Z"
    }
   },
   "outputs": [],
   "source": [
    "dir()\n",
    "gc.collect()"
   ]
  }
 ],
 "metadata": {
  "kernelspec": {
   "display_name": "Python [conda env:working]",
   "language": "python",
   "name": "conda-env-working-py"
  },
  "language_info": {
   "codemirror_mode": {
    "name": "ipython",
    "version": 3
   },
   "file_extension": ".py",
   "mimetype": "text/x-python",
   "name": "python",
   "nbconvert_exporter": "python",
   "pygments_lexer": "ipython3",
   "version": "3.7.3"
  }
 },
 "nbformat": 4,
 "nbformat_minor": 2
}
