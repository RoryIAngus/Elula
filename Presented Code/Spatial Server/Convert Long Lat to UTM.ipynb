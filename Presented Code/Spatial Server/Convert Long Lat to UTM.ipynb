{
 "cells": [
  {
   "cell_type": "code",
   "execution_count": 2,
   "metadata": {},
   "outputs": [],
   "source": [
    "# LongLat.to_pickle('LongLat.pkl')"
   ]
  },
  {
   "cell_type": "code",
   "execution_count": 2,
   "metadata": {},
   "outputs": [],
   "source": [
    "import utm\n",
    "import pandas as pd"
   ]
  },
  {
   "cell_type": "code",
   "execution_count": 4,
   "metadata": {},
   "outputs": [],
   "source": [
    "LongLat = pd.read_pickle('LongLat.pkl')"
   ]
  },
  {
   "cell_type": "code",
   "execution_count": 5,
   "metadata": {},
   "outputs": [
    {
     "data": {
      "text/html": [
       "<div>\n",
       "<style scoped>\n",
       "    .dataframe tbody tr th:only-of-type {\n",
       "        vertical-align: middle;\n",
       "    }\n",
       "\n",
       "    .dataframe tbody tr th {\n",
       "        vertical-align: top;\n",
       "    }\n",
       "\n",
       "    .dataframe thead th {\n",
       "        text-align: right;\n",
       "    }\n",
       "</style>\n",
       "<table border=\"1\" class=\"dataframe\">\n",
       "  <thead>\n",
       "    <tr style=\"text-align: right;\">\n",
       "      <th></th>\n",
       "      <th>latitude</th>\n",
       "      <th>longitude</th>\n",
       "      <th>LaLoPoint</th>\n",
       "    </tr>\n",
       "  </thead>\n",
       "  <tbody>\n",
       "    <tr>\n",
       "      <th>0</th>\n",
       "      <td>40.757977</td>\n",
       "      <td>-73.978165</td>\n",
       "      <td>(40.757977000000004, -73.978165)</td>\n",
       "    </tr>\n",
       "    <tr>\n",
       "      <th>1</th>\n",
       "      <td>40.731781</td>\n",
       "      <td>-74.006683</td>\n",
       "      <td>(40.731781, -74.006683)</td>\n",
       "    </tr>\n",
       "    <tr>\n",
       "      <th>2</th>\n",
       "      <td>40.737770</td>\n",
       "      <td>-74.004707</td>\n",
       "      <td>(40.737770000000005, -74.004707)</td>\n",
       "    </tr>\n",
       "    <tr>\n",
       "      <th>3</th>\n",
       "      <td>40.759945</td>\n",
       "      <td>-73.974602</td>\n",
       "      <td>(40.759945, -73.974602)</td>\n",
       "    </tr>\n",
       "    <tr>\n",
       "      <th>4</th>\n",
       "      <td>40.748528</td>\n",
       "      <td>-73.976250</td>\n",
       "      <td>(40.748528, -73.97625)</td>\n",
       "    </tr>\n",
       "  </tbody>\n",
       "</table>\n",
       "</div>"
      ],
      "text/plain": [
       "    latitude  longitude                         LaLoPoint\n",
       "0  40.757977 -73.978165  (40.757977000000004, -73.978165)\n",
       "1  40.731781 -74.006683           (40.731781, -74.006683)\n",
       "2  40.737770 -74.004707  (40.737770000000005, -74.004707)\n",
       "3  40.759945 -73.974602           (40.759945, -73.974602)\n",
       "4  40.748528 -73.976250            (40.748528, -73.97625)"
      ]
     },
     "execution_count": 5,
     "metadata": {},
     "output_type": "execute_result"
    }
   ],
   "source": [
    "LongLat.head()"
   ]
  },
  {
   "cell_type": "code",
   "execution_count": 6,
   "metadata": {},
   "outputs": [
    {
     "data": {
      "text/plain": [
       "(395201.3103811303, 5673135.241182375, 32, 'U')"
      ]
     },
     "execution_count": 6,
     "metadata": {},
     "output_type": "execute_result"
    }
   ],
   "source": [
    "utm.from_latlon(51.2, 7.5)"
   ]
  },
  {
   "cell_type": "code",
   "execution_count": 7,
   "metadata": {},
   "outputs": [
    {
     "data": {
      "text/plain": [
       "[40.757977000000004, -73.978165]"
      ]
     },
     "execution_count": 7,
     "metadata": {},
     "output_type": "execute_result"
    }
   ],
   "source": [
    "list(LongLat.LaLoPoint[0])"
   ]
  },
  {
   "cell_type": "code",
   "execution_count": 8,
   "metadata": {},
   "outputs": [
    {
     "data": {
      "text/plain": [
       "(586252.1543279701, 4512392.943877186, 18, 'T')"
      ]
     },
     "execution_count": 8,
     "metadata": {},
     "output_type": "execute_result"
    }
   ],
   "source": [
    "utm.from_latlon(LongLat.latitude[0], LongLat.longitude[0])"
   ]
  },
  {
   "cell_type": "code",
   "execution_count": null,
   "metadata": {},
   "outputs": [],
   "source": []
  },
  {
   "cell_type": "code",
   "execution_count": 12,
   "metadata": {},
   "outputs": [],
   "source": [
    "def rule(row):\n",
    "    x, y, val, letter = utm.from_latlon(row[\"latitude\"], row[\"longitude\"])\n",
    "    return pd.Series({\"x\": x, \"y\": y, \"val\": val, \"letter\": letter})"
   ]
  },
  {
   "cell_type": "code",
   "execution_count": 10,
   "metadata": {},
   "outputs": [],
   "source": [
    "LongLatcd = LongLat[0:100]"
   ]
  },
  {
   "cell_type": "code",
   "execution_count": 15,
   "metadata": {},
   "outputs": [],
   "source": [
    "LongLatcd = LongLatcd.merge(LongLatcd.apply(rule, axis=1), left_index= True, right_index= True)"
   ]
  },
  {
   "cell_type": "code",
   "execution_count": 16,
   "metadata": {},
   "outputs": [
    {
     "data": {
      "text/html": [
       "<div>\n",
       "<style scoped>\n",
       "    .dataframe tbody tr th:only-of-type {\n",
       "        vertical-align: middle;\n",
       "    }\n",
       "\n",
       "    .dataframe tbody tr th {\n",
       "        vertical-align: top;\n",
       "    }\n",
       "\n",
       "    .dataframe thead th {\n",
       "        text-align: right;\n",
       "    }\n",
       "</style>\n",
       "<table border=\"1\" class=\"dataframe\">\n",
       "  <thead>\n",
       "    <tr style=\"text-align: right;\">\n",
       "      <th></th>\n",
       "      <th>latitude</th>\n",
       "      <th>longitude</th>\n",
       "      <th>LaLoPoint</th>\n",
       "      <th>x</th>\n",
       "      <th>y</th>\n",
       "      <th>val</th>\n",
       "      <th>letter</th>\n",
       "    </tr>\n",
       "  </thead>\n",
       "  <tbody>\n",
       "    <tr>\n",
       "      <th>0</th>\n",
       "      <td>40.757977</td>\n",
       "      <td>-73.978165</td>\n",
       "      <td>(40.757977000000004, -73.978165)</td>\n",
       "      <td>586252.154328</td>\n",
       "      <td>4.512393e+06</td>\n",
       "      <td>18</td>\n",
       "      <td>T</td>\n",
       "    </tr>\n",
       "    <tr>\n",
       "      <th>1</th>\n",
       "      <td>40.731781</td>\n",
       "      <td>-74.006683</td>\n",
       "      <td>(40.731781, -74.006683)</td>\n",
       "      <td>583877.847624</td>\n",
       "      <td>4.509457e+06</td>\n",
       "      <td>18</td>\n",
       "      <td>T</td>\n",
       "    </tr>\n",
       "    <tr>\n",
       "      <th>2</th>\n",
       "      <td>40.737770</td>\n",
       "      <td>-74.004707</td>\n",
       "      <td>(40.737770000000005, -74.004707)</td>\n",
       "      <td>584037.170931</td>\n",
       "      <td>4.510124e+06</td>\n",
       "      <td>18</td>\n",
       "      <td>T</td>\n",
       "    </tr>\n",
       "    <tr>\n",
       "      <th>3</th>\n",
       "      <td>40.759945</td>\n",
       "      <td>-73.974602</td>\n",
       "      <td>(40.759945, -73.974602)</td>\n",
       "      <td>586550.355830</td>\n",
       "      <td>4.512615e+06</td>\n",
       "      <td>18</td>\n",
       "      <td>T</td>\n",
       "    </tr>\n",
       "    <tr>\n",
       "      <th>4</th>\n",
       "      <td>40.748528</td>\n",
       "      <td>-73.976250</td>\n",
       "      <td>(40.748528, -73.97625)</td>\n",
       "      <td>586426.036236</td>\n",
       "      <td>4.511346e+06</td>\n",
       "      <td>18</td>\n",
       "      <td>T</td>\n",
       "    </tr>\n",
       "  </tbody>\n",
       "</table>\n",
       "</div>"
      ],
      "text/plain": [
       "    latitude  longitude                         LaLoPoint              x  \\\n",
       "0  40.757977 -73.978165  (40.757977000000004, -73.978165)  586252.154328   \n",
       "1  40.731781 -74.006683           (40.731781, -74.006683)  583877.847624   \n",
       "2  40.737770 -74.004707  (40.737770000000005, -74.004707)  584037.170931   \n",
       "3  40.759945 -73.974602           (40.759945, -73.974602)  586550.355830   \n",
       "4  40.748528 -73.976250            (40.748528, -73.97625)  586426.036236   \n",
       "\n",
       "              y  val letter  \n",
       "0  4.512393e+06   18      T  \n",
       "1  4.509457e+06   18      T  \n",
       "2  4.510124e+06   18      T  \n",
       "3  4.512615e+06   18      T  \n",
       "4  4.511346e+06   18      T  "
      ]
     },
     "execution_count": 16,
     "metadata": {},
     "output_type": "execute_result"
    }
   ],
   "source": [
    "LongLatcd.head()"
   ]
  },
  {
   "cell_type": "code",
   "execution_count": 17,
   "metadata": {},
   "outputs": [],
   "source": [
    "LongLatcd.to_pickle('LongLat_UTM.pkl')"
   ]
  },
  {
   "cell_type": "code",
   "execution_count": 5,
   "metadata": {},
   "outputs": [
    {
     "ename": "ValueError",
     "evalue": "either zone_letter or northern needs to be set",
     "output_type": "error",
     "traceback": [
      "\u001b[0;31m---------------------------------------------------------------------------\u001b[0m",
      "\u001b[0;31mValueError\u001b[0m                                Traceback (most recent call last)",
      "\u001b[0;32m<ipython-input-5-ff514f71e051>\u001b[0m in \u001b[0;36m<module>\u001b[0;34m\u001b[0m\n\u001b[0;32m----> 1\u001b[0;31m \u001b[0mutm\u001b[0m\u001b[0;34m.\u001b[0m\u001b[0mto_latlon\u001b[0m\u001b[0;34m(\u001b[0m\u001b[0;36m913175.109008804\u001b[0m\u001b[0;34m,\u001b[0m \u001b[0;36m120121.88125434518\u001b[0m\u001b[0;34m,\u001b[0m \u001b[0;34m'18'\u001b[0m\u001b[0;34m)\u001b[0m\u001b[0;34m\u001b[0m\u001b[0;34m\u001b[0m\u001b[0m\n\u001b[0m",
      "\u001b[0;32m/opt/conda/envs/utm/lib/python3.6/site-packages/utm/conversion.py\u001b[0m in \u001b[0;36mto_latlon\u001b[0;34m(easting, northing, zone_number, zone_letter, northern, strict)\u001b[0m\n\u001b[1;32m     60\u001b[0m     \"\"\"\n\u001b[1;32m     61\u001b[0m     \u001b[0;32mif\u001b[0m \u001b[0;32mnot\u001b[0m \u001b[0mzone_letter\u001b[0m \u001b[0;32mand\u001b[0m \u001b[0mnorthern\u001b[0m \u001b[0;32mis\u001b[0m \u001b[0;32mNone\u001b[0m\u001b[0;34m:\u001b[0m\u001b[0;34m\u001b[0m\u001b[0;34m\u001b[0m\u001b[0m\n\u001b[0;32m---> 62\u001b[0;31m         \u001b[0;32mraise\u001b[0m \u001b[0mValueError\u001b[0m\u001b[0;34m(\u001b[0m\u001b[0;34m'either zone_letter or northern needs to be set'\u001b[0m\u001b[0;34m)\u001b[0m\u001b[0;34m\u001b[0m\u001b[0;34m\u001b[0m\u001b[0m\n\u001b[0m\u001b[1;32m     63\u001b[0m \u001b[0;34m\u001b[0m\u001b[0m\n\u001b[1;32m     64\u001b[0m     \u001b[0;32melif\u001b[0m \u001b[0mzone_letter\u001b[0m \u001b[0;32mand\u001b[0m \u001b[0mnorthern\u001b[0m \u001b[0;32mis\u001b[0m \u001b[0;32mnot\u001b[0m \u001b[0;32mNone\u001b[0m\u001b[0;34m:\u001b[0m\u001b[0;34m\u001b[0m\u001b[0;34m\u001b[0m\u001b[0m\n",
      "\u001b[0;31mValueError\u001b[0m: either zone_letter or northern needs to be set"
     ]
    }
   ],
   "source": [
    "utm.to_latlon(913175.109008804, 120121.88125434518, '18')"
   ]
  }
 ],
 "metadata": {
  "kernelspec": {
   "display_name": "Python [conda env:utm] *",
   "language": "python",
   "name": "conda-env-utm-py"
  }
 },
 "nbformat": 4,
 "nbformat_minor": 2
}
